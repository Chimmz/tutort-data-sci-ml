{
 "cells": [
  {
   "cell_type": "code",
   "execution_count": 2,
   "id": "1bd21688",
   "metadata": {},
   "outputs": [],
   "source": [
    "import numpy as np"
   ]
  },
  {
   "cell_type": "markdown",
   "id": "2079120b",
   "metadata": {},
   "source": [
    "## Data Types & Attributes"
   ]
  },
  {
   "cell_type": "code",
   "execution_count": 3,
   "id": "a3d3a8b2",
   "metadata": {},
   "outputs": [
    {
     "data": {
      "text/plain": [
       "array([[4. , 2. , 5. ],\n",
       "       [3. , 6. , 2. ],\n",
       "       [7. , 4.4, 7.3]])"
      ]
     },
     "execution_count": 3,
     "metadata": {},
     "output_type": "execute_result"
    }
   ],
   "source": [
    "# Numpy's main data type is the ndarray\n",
    "\n",
    "arr1 = np.array([\n",
    "    [4, 2, 5],\n",
    "    [3, 6, 2],\n",
    "    [7, 4.4, 7.3]\n",
    "])\n",
    "arr1"
   ]
  },
  {
   "cell_type": "code",
   "execution_count": 4,
   "id": "abf435cb",
   "metadata": {},
   "outputs": [
    {
     "data": {
      "text/plain": [
       "(3, 3)"
      ]
     },
     "execution_count": 4,
     "metadata": {},
     "output_type": "execute_result"
    }
   ],
   "source": [
    "arr1.shape"
   ]
  },
  {
   "cell_type": "code",
   "execution_count": 5,
   "id": "f4edcf92",
   "metadata": {},
   "outputs": [
    {
     "data": {
      "text/plain": [
       "numpy.ndarray"
      ]
     },
     "execution_count": 5,
     "metadata": {},
     "output_type": "execute_result"
    }
   ],
   "source": [
    "type (arr1) # Result is numpy.ndarray which means n-dimenstional array"
   ]
  },
  {
   "cell_type": "code",
   "execution_count": 6,
   "id": "b39bdf63",
   "metadata": {},
   "outputs": [
    {
     "data": {
      "text/plain": [
       "2"
      ]
     },
     "execution_count": 6,
     "metadata": {},
     "output_type": "execute_result"
    }
   ],
   "source": [
    "arr1.ndim"
   ]
  },
  {
   "cell_type": "code",
   "execution_count": 7,
   "id": "ab906cc2",
   "metadata": {},
   "outputs": [
    {
     "data": {
      "text/plain": [
       "dtype('float64')"
      ]
     },
     "execution_count": 7,
     "metadata": {},
     "output_type": "execute_result"
    }
   ],
   "source": [
    "arr1.dtype # The type of array elements"
   ]
  },
  {
   "cell_type": "code",
   "execution_count": 8,
   "id": "fe235a3d",
   "metadata": {},
   "outputs": [
    {
     "data": {
      "text/plain": [
       "9"
      ]
     },
     "execution_count": 8,
     "metadata": {},
     "output_type": "execute_result"
    }
   ],
   "source": [
    "arr1.size  # The number of elements"
   ]
  },
  {
   "cell_type": "markdown",
   "id": "4db81df0",
   "metadata": {},
   "source": [
    "## Combination with Pandas"
   ]
  },
  {
   "cell_type": "code",
   "execution_count": 9,
   "id": "a5f1a004",
   "metadata": {},
   "outputs": [
    {
     "data": {
      "text/plain": [
       "array([[4. , 2. , 5. ],\n",
       "       [3. , 6. , 2. ],\n",
       "       [7. , 4.4, 7.3]])"
      ]
     },
     "execution_count": 9,
     "metadata": {},
     "output_type": "execute_result"
    }
   ],
   "source": [
    "arr1"
   ]
  },
  {
   "cell_type": "code",
   "execution_count": 10,
   "id": "24952935",
   "metadata": {},
   "outputs": [
    {
     "data": {
      "text/html": [
       "<div>\n",
       "<style scoped>\n",
       "    .dataframe tbody tr th:only-of-type {\n",
       "        vertical-align: middle;\n",
       "    }\n",
       "\n",
       "    .dataframe tbody tr th {\n",
       "        vertical-align: top;\n",
       "    }\n",
       "\n",
       "    .dataframe thead th {\n",
       "        text-align: right;\n",
       "    }\n",
       "</style>\n",
       "<table border=\"1\" class=\"dataframe\">\n",
       "  <thead>\n",
       "    <tr style=\"text-align: right;\">\n",
       "      <th></th>\n",
       "      <th>0</th>\n",
       "      <th>1</th>\n",
       "      <th>2</th>\n",
       "    </tr>\n",
       "  </thead>\n",
       "  <tbody>\n",
       "    <tr>\n",
       "      <th>0</th>\n",
       "      <td>4.0</td>\n",
       "      <td>2.0</td>\n",
       "      <td>5.0</td>\n",
       "    </tr>\n",
       "    <tr>\n",
       "      <th>1</th>\n",
       "      <td>3.0</td>\n",
       "      <td>6.0</td>\n",
       "      <td>2.0</td>\n",
       "    </tr>\n",
       "    <tr>\n",
       "      <th>2</th>\n",
       "      <td>7.0</td>\n",
       "      <td>4.4</td>\n",
       "      <td>7.3</td>\n",
       "    </tr>\n",
       "  </tbody>\n",
       "</table>\n",
       "</div>"
      ],
      "text/plain": [
       "     0    1    2\n",
       "0  4.0  2.0  5.0\n",
       "1  3.0  6.0  2.0\n",
       "2  7.0  4.4  7.3"
      ]
     },
     "execution_count": 10,
     "metadata": {},
     "output_type": "execute_result"
    }
   ],
   "source": [
    "import pandas as pd\n",
    "df = pd.DataFrame(arr1)\n",
    "df"
   ]
  },
  {
   "cell_type": "markdown",
   "id": "155dd91e",
   "metadata": {},
   "source": [
    "## Creating Arrays"
   ]
  },
  {
   "cell_type": "code",
   "execution_count": 11,
   "id": "468889ce",
   "metadata": {},
   "outputs": [
    {
     "data": {
      "text/plain": [
       "array([[1, 1, 1],\n",
       "       [1, 1, 1]])"
      ]
     },
     "execution_count": 11,
     "metadata": {},
     "output_type": "execute_result"
    }
   ],
   "source": [
    "array_ones = np.ones((2, 3), 'int') # Creates a 2x3 np-arr populated with ones. Try np.ones((2, 3), dtype='int', order='C')\n",
    "array_ones"
   ]
  },
  {
   "cell_type": "code",
   "execution_count": 12,
   "id": "a719f41a",
   "metadata": {},
   "outputs": [
    {
     "data": {
      "text/plain": [
       "array([[0., 0., 0.],\n",
       "       [0., 0., 0.],\n",
       "       [0., 0., 0.]])"
      ]
     },
     "execution_count": 12,
     "metadata": {},
     "output_type": "execute_result"
    }
   ],
   "source": [
    "arr_zeros = np.zeros((3, 3))\n",
    "arr_zeros"
   ]
  },
  {
   "cell_type": "code",
   "execution_count": 13,
   "id": "259f96b9",
   "metadata": {},
   "outputs": [
    {
     "data": {
      "text/plain": [
       "array([ 0,  2,  4,  6,  8, 10])"
      ]
     },
     "execution_count": 13,
     "metadata": {},
     "output_type": "execute_result"
    }
   ],
   "source": [
    "range_arr = np.arange(0, 11, 2) # Args are 'start', 'stop', 'step'\n",
    "range_arr"
   ]
  },
  {
   "cell_type": "code",
   "execution_count": 14,
   "id": "f389526b",
   "metadata": {},
   "outputs": [
    {
     "data": {
      "text/plain": [
       "array([[5, 3, 3],\n",
       "       [4, 2, 5],\n",
       "       [3, 2, 3]])"
      ]
     },
     "execution_count": 14,
     "metadata": {},
     "output_type": "execute_result"
    }
   ],
   "source": [
    "random_arr = np.random.randint(2, 6, size=(3, 3)) # Create a 3x3 np-arr with random elements between 2 and 6 (6 non-inclusive)\n",
    "random_arr"
   ]
  },
  {
   "cell_type": "code",
   "execution_count": 15,
   "id": "7337af17",
   "metadata": {},
   "outputs": [
    {
     "data": {
      "text/plain": [
       "array([[0.85826378, 0.9446245 , 0.68443507],\n",
       "       [0.14659732, 0.60778344, 0.72657431]])"
      ]
     },
     "execution_count": 15,
     "metadata": {},
     "output_type": "execute_result"
    }
   ],
   "source": [
    "random_arr2 = np.random.random((2, 3))  # Creates a 2x3 array with elements between 0 and 1 (both non-inclusive)\n",
    "random_arr2"
   ]
  },
  {
   "cell_type": "code",
   "execution_count": 16,
   "id": "a35db234",
   "metadata": {},
   "outputs": [
    {
     "data": {
      "text/plain": [
       "array([[[0.03861861, 0.24363558, 0.11792135, 0.76119159],\n",
       "        [0.51810022, 0.91624202, 0.14216411, 0.46497221],\n",
       "        [0.62126547, 0.29789662, 0.00813099, 0.65160115]],\n",
       "\n",
       "       [[0.64438012, 0.12720667, 0.04911451, 0.36017427],\n",
       "        [0.62210202, 0.70154253, 0.39969274, 0.64118519],\n",
       "        [0.99709703, 0.79120416, 0.49451638, 0.24652094]]])"
      ]
     },
     "execution_count": 16,
     "metadata": {},
     "output_type": "execute_result"
    }
   ],
   "source": [
    "# Numpy actually applies a seed, but it's a random seed.\n",
    "random_arr3 = np.random.rand(2, 3, 4)   # Create a 2x3x4 array with elements between 0 and 1 (both non-inclusive)\n",
    "random_arr3"
   ]
  },
  {
   "cell_type": "code",
   "execution_count": 17,
   "id": "ffd79031",
   "metadata": {},
   "outputs": [
    {
     "data": {
      "text/plain": [
       "array([[1, 8],\n",
       "       [2, 4]])"
      ]
     },
     "execution_count": 17,
     "metadata": {},
     "output_type": "execute_result"
    }
   ],
   "source": [
    "np.random.seed() # Produces random values only once. Now these random values can be shared/reproduced\n",
    "random_arr4 = np.random.randint(1, 10, (2, 2)) # Create a 2x2 matrix between random values between 1 and 10\n",
    "random_arr4"
   ]
  },
  {
   "cell_type": "markdown",
   "id": "93976bab",
   "metadata": {},
   "source": [
    "## Viewing Arrays and Matrices"
   ]
  },
  {
   "cell_type": "code",
   "execution_count": 18,
   "id": "5881d3cd",
   "metadata": {},
   "outputs": [
    {
     "data": {
      "text/plain": [
       "array([1, 2, 4, 8])"
      ]
     },
     "execution_count": 18,
     "metadata": {},
     "output_type": "execute_result"
    }
   ],
   "source": [
    "np.unique(random_arr4)            # Returns the unique numbers in a numpy array."
   ]
  },
  {
   "cell_type": "markdown",
   "id": "295a6327",
   "metadata": {},
   "source": [
    "## Manipulating / Comparing Arrays"
   ]
  },
  {
   "cell_type": "markdown",
   "id": "dcf09aa2",
   "metadata": {},
   "source": [
    "### Arithmetic"
   ]
  },
  {
   "cell_type": "code",
   "execution_count": 19,
   "id": "b9595337",
   "metadata": {},
   "outputs": [
    {
     "data": {
      "text/plain": [
       "array([4, 2, 5])"
      ]
     },
     "execution_count": 19,
     "metadata": {},
     "output_type": "execute_result"
    }
   ],
   "source": [
    "arr1 = np.array([4, 2, 5])\n",
    "arr1"
   ]
  },
  {
   "cell_type": "code",
   "execution_count": 20,
   "id": "a36ae190",
   "metadata": {},
   "outputs": [
    {
     "data": {
      "text/plain": [
       "array([1, 1, 1])"
      ]
     },
     "execution_count": 20,
     "metadata": {},
     "output_type": "execute_result"
    }
   ],
   "source": [
    "ones_arr = np.ones(3, 'int')\n",
    "ones_arr"
   ]
  },
  {
   "cell_type": "code",
   "execution_count": 21,
   "id": "252c84d7",
   "metadata": {},
   "outputs": [
    {
     "data": {
      "text/plain": [
       "array([5, 3, 6])"
      ]
     },
     "execution_count": 21,
     "metadata": {},
     "output_type": "execute_result"
    }
   ],
   "source": [
    "ones_arr + arr1             # Adds elements position by position"
   ]
  },
  {
   "cell_type": "markdown",
   "id": "f7dcec0c",
   "metadata": {},
   "source": [
    "### Use python functions on python data types and numpy methods on numpy data types"
   ]
  },
  {
   "cell_type": "code",
   "execution_count": 22,
   "id": "32e70632",
   "metadata": {},
   "outputs": [
    {
     "data": {
      "text/plain": [
       "12"
      ]
     },
     "execution_count": 22,
     "metadata": {},
     "output_type": "execute_result"
    }
   ],
   "source": [
    "np.sum([2, 3, 7])           # Sums the elements of an array. Similar to sum([2, 3, 7])"
   ]
  },
  {
   "cell_type": "code",
   "execution_count": 23,
   "id": "78674532",
   "metadata": {},
   "outputs": [
    {
     "data": {
      "text/plain": [
       "array([[520, 423, 122, 253, 967, 863, 830, 493, 885, 759],\n",
       "       [147, 421, 635, 576, 172, 378, 428, 638, 519, 423],\n",
       "       [638, 596, 796, 100, 306, 470, 720, 952, 344, 473],\n",
       "       [ 36, 626, 235,  38, 740, 530, 468, 111, 673, 124],\n",
       "       [533, 221, 224, 681, 977, 341, 577, 397, 172,  15],\n",
       "       [828, 522, 495, 323, 271, 329, 307, 979, 154, 674],\n",
       "       [840, 700, 432, 558, 650, 334, 462, 895, 565, 424],\n",
       "       [393, 547, 765, 631, 971, 434,  16, 660, 815, 768],\n",
       "       [209, 446, 880, 274,  66, 434, 418, 678, 902, 214],\n",
       "       [883, 816, 157, 932, 528, 794, 860, 794, 566, 855],\n",
       "       [241, 382,  31, 396, 291, 299, 282, 917, 135, 566],\n",
       "       [367,  16, 542,  92, 610, 457,  50, 888, 522, 410],\n",
       "       [133, 587,  57, 416, 848, 845, 258, 753, 402, 739],\n",
       "       [476, 824, 155, 834,  92, 245,  87, 571, 271, 739],\n",
       "       [ 92, 810,  77, 696, 300, 625, 250, 239, 407, 849],\n",
       "       [ 89, 105, 132, 439, 521, 136, 774, 855, 694,  86],\n",
       "       [516, 342, 266, 442, 400, 455, 242,  96, 913, 892],\n",
       "       [385, 992, 197, 341, 309, 716, 872, 179, 110,  14],\n",
       "       [223, 706,  39, 136, 446, 252, 311, 430, 880, 309],\n",
       "       [746, 679, 594, 683, 282, 574, 844, 663, 253, 423],\n",
       "       [ 85, 239,  85, 106, 550, 937, 211, 103, 748, 599],\n",
       "       [469, 384, 988, 216, 384, 812, 240, 960, 438, 819],\n",
       "       [619, 918, 535, 826, 626, 610, 212, 119, 758, 318],\n",
       "       [435, 759, 189, 217, 344,  55, 825, 567, 193,  94],\n",
       "       [448,  96, 409, 355, 715, 688, 748,  84, 739,  87],\n",
       "       [ 22, 983, 486, 531, 778, 848, 299, 750,  27, 662],\n",
       "       [ 54, 740, 731, 910, 311, 959,  88, 899, 743,  92],\n",
       "       [231, 937,  68, 465, 858, 609, 707, 259, 799, 907],\n",
       "       [858, 127, 532,  18, 180, 899, 668, 745, 876, 514],\n",
       "       [941,  63, 219, 415, 387, 433, 598, 114, 497,  93],\n",
       "       [950, 196, 439, 340, 507, 278, 641, 332, 790, 702],\n",
       "       [462, 218, 224, 314, 958, 750, 910, 989, 339, 132],\n",
       "       [724, 619, 769, 517, 498, 743, 826,  66, 470, 267],\n",
       "       [474, 434, 224, 951,  95, 705, 303, 333, 674, 964],\n",
       "       [946,  48, 198, 998, 668, 848, 398, 235, 982,  21],\n",
       "       [455, 786, 912,  67, 743, 571, 774, 684, 911, 354],\n",
       "       [720, 755, 789, 565, 783, 690,  22, 494,  26, 736],\n",
       "       [734, 932, 342, 436, 433,  37, 712, 669, 594, 437],\n",
       "       [895,  11,  66, 187, 209, 191, 964, 491, 722, 167],\n",
       "       [624, 967, 315, 180, 825, 776, 281, 657, 413, 568],\n",
       "       [192, 559, 540, 692, 800, 149, 867, 752, 465, 320],\n",
       "       [ 78, 246, 200,  65, 276,  38, 373, 687, 890,  87],\n",
       "       [856, 726, 176, 601, 303, 335, 371, 548, 216,  49],\n",
       "       [818, 390, 194, 319, 898, 305, 554, 365, 432,  46],\n",
       "       [504, 307, 765, 584, 756, 828, 885, 700, 434, 964],\n",
       "       [721,  58, 584, 311, 662, 403, 437, 641, 894, 929],\n",
       "       [302, 344, 734, 138, 504,  44, 300, 205, 959,  77],\n",
       "       [160, 501, 363, 823, 223, 186,  54, 839, 289,  57],\n",
       "       [583, 198, 699, 373, 136,  46,  40, 387, 854, 707],\n",
       "       [144, 523, 178, 725, 909, 153, 687, 874, 564, 368]])"
      ]
     },
     "execution_count": 23,
     "metadata": {},
     "output_type": "execute_result"
    }
   ],
   "source": [
    "new_random = np.random.randint(1, 1000, (50, 10))\n",
    "new_random"
   ]
  },
  {
   "cell_type": "code",
   "execution_count": 24,
   "id": "49f5206d",
   "metadata": {},
   "outputs": [
    {
     "name": "stdout",
     "output_type": "stream",
     "text": [
      "65.9 µs ± 1.83 µs per loop (mean ± std. dev. of 7 runs, 10,000 loops each)\n",
      "10 µs ± 184 ns per loop (mean ± std. dev. of 7 runs, 100,000 loops each)\n"
     ]
    }
   ],
   "source": [
    "%timeit sum(new_random)               # Measuring the time python's sum() takes to execute\n",
    "%timeit np.sum(new_random)            # Measuring the time numpy.sum() takes to execute"
   ]
  },
  {
   "cell_type": "code",
   "execution_count": 25,
   "id": "82eabea0",
   "metadata": {},
   "outputs": [
    {
     "data": {
      "text/plain": [
       "(485.19, 998, 284.33729600599355, 80847.6979)"
      ]
     },
     "execution_count": 25,
     "metadata": {},
     "output_type": "execute_result"
    }
   ],
   "source": [
    "np.mean(new_random), np.max(new_random), np.std(new_random), np.var(new_random) # np.std is standard dev, np.var is variance"
   ]
  },
  {
   "cell_type": "markdown",
   "id": "ed19a2f0",
   "metadata": {},
   "source": [
    "### Reshaping and Transposing"
   ]
  },
  {
   "cell_type": "code",
   "execution_count": 26,
   "id": "5b338a2d",
   "metadata": {},
   "outputs": [
    {
     "data": {
      "text/plain": [
       "array([[1, 2, 3],\n",
       "       [4, 5, 6]])"
      ]
     },
     "execution_count": 26,
     "metadata": {},
     "output_type": "execute_result"
    }
   ],
   "source": [
    "new_arr = np.array([[1, 2, 3], [4, 5, 6]])\n",
    "new_arr"
   ]
  },
  {
   "cell_type": "code",
   "execution_count": 27,
   "id": "13d8aa38",
   "metadata": {},
   "outputs": [
    {
     "data": {
      "text/plain": [
       "array([[1, 2],\n",
       "       [3, 4],\n",
       "       [5, 6]])"
      ]
     },
     "execution_count": 27,
     "metadata": {},
     "output_type": "execute_result"
    }
   ],
   "source": [
    "new_arr.reshape(3, 2)"
   ]
  },
  {
   "cell_type": "code",
   "execution_count": 28,
   "id": "caa7bd22",
   "metadata": {},
   "outputs": [
    {
     "data": {
      "text/plain": [
       "array([[1, 4],\n",
       "       [2, 5],\n",
       "       [3, 6]])"
      ]
     },
     "execution_count": 28,
     "metadata": {},
     "output_type": "execute_result"
    }
   ],
   "source": [
    "new_arr.T # Transpose"
   ]
  },
  {
   "cell_type": "code",
   "execution_count": 51,
   "id": "ede12379",
   "metadata": {},
   "outputs": [
    {
     "data": {
      "text/plain": [
       "array([[11, 12,  6, 16],\n",
       "       [29, 27, 18, 40]])"
      ]
     },
     "execution_count": 51,
     "metadata": {},
     "output_type": "execute_result"
    }
   ],
   "source": [
    "# Dot product\n",
    "arr4 = np.random.randint(4, size=(3, 4))\n",
    "new_arr.dot(arr4)"
   ]
  },
  {
   "cell_type": "markdown",
   "id": "7512f767",
   "metadata": {},
   "source": [
    "# Comparison Operators"
   ]
  },
  {
   "cell_type": "code",
   "execution_count": 55,
   "id": "94abcfce",
   "metadata": {},
   "outputs": [
    {
     "data": {
      "text/plain": [
       "(array([1, 2, 3]),\n",
       " array([[1. , 2.1, 3.3],\n",
       "        [4.2, 5.1, 6. ]]))"
      ]
     },
     "execution_count": 55,
     "metadata": {},
     "output_type": "execute_result"
    }
   ],
   "source": [
    "arr1 = np.array([1, 2, 3])\n",
    "arr2 = np.array([[1, 2.1, 3.3], [4.2, 5.1, 6]])\n",
    "\n",
    "arr1, arr2"
   ]
  },
  {
   "cell_type": "code",
   "execution_count": 56,
   "id": "fcc45f26",
   "metadata": {},
   "outputs": [
    {
     "data": {
      "text/plain": [
       "array([[False, False, False],\n",
       "       [False, False, False]])"
      ]
     },
     "execution_count": 56,
     "metadata": {},
     "output_type": "execute_result"
    }
   ],
   "source": [
    "arr1 > arr2"
   ]
  },
  {
   "cell_type": "markdown",
   "id": "d87ac3eb",
   "metadata": {},
   "source": [
    "# Sorting Arrays"
   ]
  },
  {
   "cell_type": "code",
   "execution_count": 64,
   "id": "3da38be7",
   "metadata": {},
   "outputs": [
    {
     "data": {
      "text/plain": [
       "array([[ 9, 16, 14,  9],\n",
       "       [12, 12,  9,  8],\n",
       "       [ 3, 18, 12, 16]])"
      ]
     },
     "execution_count": 64,
     "metadata": {},
     "output_type": "execute_result"
    }
   ],
   "source": [
    "np.random.seed(2)\n",
    "random_arr = np.random.randint(1, 19, size=(3, 4))\n",
    "random_arr"
   ]
  },
  {
   "cell_type": "code",
   "execution_count": 65,
   "id": "62bfb030",
   "metadata": {},
   "outputs": [
    {
     "data": {
      "text/plain": [
       "array([[ 9,  9, 14, 16],\n",
       "       [ 8,  9, 12, 12],\n",
       "       [ 3, 12, 16, 18]])"
      ]
     },
     "execution_count": 65,
     "metadata": {},
     "output_type": "execute_result"
    }
   ],
   "source": [
    "np.sort(random_arr)              # Sorts elements in each row, within each row. Returns a sorted copy of the array"
   ]
  },
  {
   "cell_type": "code",
   "execution_count": 66,
   "id": "23ef6f3b",
   "metadata": {},
   "outputs": [
    {
     "data": {
      "text/plain": [
       "array([[0, 3, 2, 1],\n",
       "       [3, 2, 0, 1],\n",
       "       [0, 2, 3, 1]], dtype=int64)"
      ]
     },
     "execution_count": 66,
     "metadata": {},
     "output_type": "execute_result"
    }
   ],
   "source": [
    "np.argsort(random_arr)           # Sorts but returns the initial indices of elements before sorting took place"
   ]
  },
  {
   "cell_type": "code",
   "execution_count": 69,
   "id": "ccf97d9e",
   "metadata": {},
   "outputs": [
    {
     "data": {
      "text/plain": [
       "8"
      ]
     },
     "execution_count": 69,
     "metadata": {},
     "output_type": "execute_result"
    }
   ],
   "source": [
    "np.argmin(random_arr)            # Resolves to 8. The 9th element (at index 8) is the minimum number"
   ]
  },
  {
   "cell_type": "markdown",
   "id": "dd4106e8",
   "metadata": {},
   "source": [
    "<img src=\"img/panda.png\"/>"
   ]
  },
  {
   "cell_type": "markdown",
   "id": "039f35e2",
   "metadata": {},
   "source": [
    "### Turn image into a Numpy Array"
   ]
  },
  {
   "cell_type": "code",
   "execution_count": 76,
   "id": "328dbe8d",
   "metadata": {},
   "outputs": [
    {
     "data": {
      "text/plain": [
       "array([[[0.05490196, 0.10588235, 0.06666667],\n",
       "        [0.05490196, 0.10588235, 0.06666667],\n",
       "        [0.05490196, 0.10588235, 0.06666667],\n",
       "        ...,\n",
       "        [0.16470589, 0.12941177, 0.09411765],\n",
       "        [0.16470589, 0.12941177, 0.09411765],\n",
       "        [0.16470589, 0.12941177, 0.09411765]],\n",
       "\n",
       "       [[0.05490196, 0.10588235, 0.06666667],\n",
       "        [0.05490196, 0.10588235, 0.06666667],\n",
       "        [0.05490196, 0.10588235, 0.06666667],\n",
       "        ...,\n",
       "        [0.16470589, 0.12941177, 0.09411765],\n",
       "        [0.16470589, 0.12941177, 0.09411765],\n",
       "        [0.16470589, 0.12941177, 0.09411765]],\n",
       "\n",
       "       [[0.05490196, 0.10588235, 0.06666667],\n",
       "        [0.05490196, 0.10588235, 0.06666667],\n",
       "        [0.05490196, 0.10588235, 0.06666667],\n",
       "        ...,\n",
       "        [0.16470589, 0.12941177, 0.09411765],\n",
       "        [0.16470589, 0.12941177, 0.09411765],\n",
       "        [0.16470589, 0.12941177, 0.09411765]],\n",
       "\n",
       "       ...,\n",
       "\n",
       "       [[0.13333334, 0.07450981, 0.05490196],\n",
       "        [0.12156863, 0.0627451 , 0.04313726],\n",
       "        [0.10980392, 0.05098039, 0.03137255],\n",
       "        ...,\n",
       "        [0.02745098, 0.02745098, 0.03529412],\n",
       "        [0.02745098, 0.02745098, 0.03529412],\n",
       "        [0.02745098, 0.02745098, 0.03529412]],\n",
       "\n",
       "       [[0.13333334, 0.07450981, 0.05490196],\n",
       "        [0.12156863, 0.0627451 , 0.04313726],\n",
       "        [0.12156863, 0.0627451 , 0.04313726],\n",
       "        ...,\n",
       "        [0.02352941, 0.02352941, 0.03137255],\n",
       "        [0.02352941, 0.02352941, 0.03137255],\n",
       "        [0.02352941, 0.02352941, 0.03137255]],\n",
       "\n",
       "       [[0.13333334, 0.07450981, 0.05490196],\n",
       "        [0.12156863, 0.0627451 , 0.04313726],\n",
       "        [0.12156863, 0.0627451 , 0.04313726],\n",
       "        ...,\n",
       "        [0.02352941, 0.02352941, 0.03137255],\n",
       "        [0.02352941, 0.02352941, 0.03137255],\n",
       "        [0.02352941, 0.02352941, 0.03137255]]], dtype=float32)"
      ]
     },
     "execution_count": 76,
     "metadata": {},
     "output_type": "execute_result"
    }
   ],
   "source": [
    "from matplotlib.image import imread\n",
    "\n",
    "panda_img_arr = imread('img/panda.png')\n",
    "panda_img_arr"
   ]
  },
  {
   "cell_type": "code",
   "execution_count": 85,
   "id": "fc0c1a2e",
   "metadata": {},
   "outputs": [
    {
     "name": "stdout",
     "output_type": "stream",
     "text": [
      "<class 'numpy.ndarray'>\n"
     ]
    },
    {
     "data": {
      "text/plain": [
       "(24465000, (2330, 3500, 3))"
      ]
     },
     "execution_count": 85,
     "metadata": {},
     "output_type": "execute_result"
    }
   ],
   "source": [
    "print(type(panda_img_arr))\n",
    "panda_img_arr.size, panda_img_arr.shape, "
   ]
  },
  {
   "cell_type": "markdown",
   "id": "ce8a7492",
   "metadata": {},
   "source": [
    "<img src=\"img/car-photo.png\" />"
   ]
  },
  {
   "cell_type": "code",
   "execution_count": 93,
   "id": "1550ae51",
   "metadata": {},
   "outputs": [
    {
     "data": {
      "text/plain": [
       "(991300, (431, 575, 4))"
      ]
     },
     "execution_count": 93,
     "metadata": {},
     "output_type": "execute_result"
    }
   ],
   "source": [
    "car_img_arr = imread('img/car-photo.png')\n",
    "car_img_arr.size, car_img_arr.shape"
   ]
  },
  {
   "cell_type": "code",
   "execution_count": null,
   "id": "3380d444",
   "metadata": {},
   "outputs": [],
   "source": []
  }
 ],
 "metadata": {
  "kernelspec": {
   "display_name": "Python 3 (ipykernel)",
   "language": "python",
   "name": "python3"
  },
  "language_info": {
   "codemirror_mode": {
    "name": "ipython",
    "version": 3
   },
   "file_extension": ".py",
   "mimetype": "text/x-python",
   "name": "python",
   "nbconvert_exporter": "python",
   "pygments_lexer": "ipython3",
   "version": "3.11.3"
  }
 },
 "nbformat": 4,
 "nbformat_minor": 5
}
