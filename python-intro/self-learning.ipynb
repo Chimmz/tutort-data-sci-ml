{
  "nbformat": 4,
  "nbformat_minor": 0,
  "metadata": {
    "colab": {
      "provenance": [],
      "toc_visible": true
    },
    "kernelspec": {
      "name": "python3",
      "display_name": "Python 3"
    },
    "language_info": {
      "name": "python"
    }
  },
  "cells": [
    {
      "cell_type": "code",
      "execution_count": null,
      "metadata": {
        "colab": {
          "base_uri": "https://localhost:8080/"
        },
        "id": "bkU0Y88vtdjX",
        "outputId": "b437e8dc-b59d-44e3-c471-d92b2bfa93c3"
      },
      "outputs": [
        {
          "output_type": "execute_result",
          "data": {
            "text/plain": [
              "(0.33889909706084365, 2)"
            ]
          },
          "metadata": {},
          "execution_count": 1
        }
      ],
      "source": [
        "import random\n",
        "\n",
        "random, randint = random.random, random.randint\n",
        "random(), randint(1, 10)"
      ]
    },
    {
      "cell_type": "code",
      "source": [
        "float(input('Temperature in celsius: ')) * 9 / 5 + 32"
      ],
      "metadata": {
        "colab": {
          "base_uri": "https://localhost:8080/"
        },
        "id": "4SZRLZcJATpc",
        "outputId": "e428efc7-64a7-44e1-c052-bfec2429b931"
      },
      "execution_count": null,
      "outputs": [
        {
          "name": "stdout",
          "output_type": "stream",
          "text": [
            "Temperature in celsius: 2\n"
          ]
        },
        {
          "output_type": "execute_result",
          "data": {
            "text/plain": [
              "35.6"
            ]
          },
          "metadata": {},
          "execution_count": 1
        }
      ]
    },
    {
      "cell_type": "code",
      "source": [
        "simple_interest = float(input('Enter principal: ')) * int(input('Enter rate: ')) * float(input('Enter time: ')) / 100\n",
        "print(f\"Simple interest is {simple_interest}\")"
      ],
      "metadata": {
        "colab": {
          "base_uri": "https://localhost:8080/"
        },
        "id": "QtmaubL4CiUr",
        "outputId": "5991b3e4-8aaf-4bc7-e832-116952e163fe"
      },
      "execution_count": null,
      "outputs": [
        {
          "output_type": "stream",
          "name": "stdout",
          "text": [
            "Enter principal: 1\n",
            "Enter rate: 2\n",
            "Enter time: 3\n",
            "Simple interest is 0.06\n"
          ]
        }
      ]
    },
    {
      "cell_type": "code",
      "source": [
        "a = r'C:\\user\\Chima'\n",
        "a"
      ],
      "metadata": {
        "colab": {
          "base_uri": "https://localhost:8080/",
          "height": 35
        },
        "id": "fzldB7byD2dg",
        "outputId": "2f6b123c-68e5-430a-80aa-4d7da265a6bd"
      },
      "execution_count": 4,
      "outputs": [
        {
          "output_type": "execute_result",
          "data": {
            "text/plain": [
              "'C:\\\\user\\\\Chima'"
            ],
            "application/vnd.google.colaboratory.intrinsic+json": {
              "type": "string"
            }
          },
          "metadata": {},
          "execution_count": 4
        }
      ]
    },
    {
      "cell_type": "code",
      "source": [
        "# Using \\ to prevent new line\n",
        "'''\\\n",
        "Hi'''"
      ],
      "metadata": {
        "colab": {
          "base_uri": "https://localhost:8080/",
          "height": 35
        },
        "id": "mJbktjU-j7nB",
        "outputId": "56bd1f97-7319-4b8d-ff9f-e31ce47708fe"
      },
      "execution_count": 8,
      "outputs": [
        {
          "output_type": "execute_result",
          "data": {
            "text/plain": [
              "'Hi'"
            ],
            "application/vnd.google.colaboratory.intrinsic+json": {
              "type": "string"
            }
          },
          "metadata": {},
          "execution_count": 8
        }
      ]
    },
    {
      "cell_type": "code",
      "source": [
        "2 * 'Ba' + ' God'"
      ],
      "metadata": {
        "colab": {
          "base_uri": "https://localhost:8080/",
          "height": 35
        },
        "id": "EX_SlW1Xj9tF",
        "outputId": "b7f3134e-2420-4b3d-a55b-370b53f3e956"
      },
      "execution_count": 10,
      "outputs": [
        {
          "output_type": "execute_result",
          "data": {
            "text/plain": [
              "'BaBa God'"
            ],
            "application/vnd.google.colaboratory.intrinsic+json": {
              "type": "string"
            }
          },
          "metadata": {},
          "execution_count": 10
        }
      ]
    },
    {
      "cell_type": "code",
      "source": [
        "str = 'Python'\n",
        "str[-1], str[1:], str[:4], str[-3:], str[10:], {'length': len(str)}"
      ],
      "metadata": {
        "colab": {
          "base_uri": "https://localhost:8080/"
        },
        "id": "FD65ZHOJlJwc",
        "outputId": "4f371814-b9d7-4433-c03f-eacfeba6b21f"
      },
      "execution_count": 18,
      "outputs": [
        {
          "output_type": "execute_result",
          "data": {
            "text/plain": [
              "('n', 'ython', 'Pyth', 'hon', '', {'length': 6})"
            ]
          },
          "metadata": {},
          "execution_count": 18
        }
      ]
    },
    {
      "cell_type": "code",
      "source": [
        "# LISTS\n",
        "evens = [2, 4, 6, 8]\n",
        "odds = [1, 3, 5, 7]\n",
        "\n",
        "evens + odds"
      ],
      "metadata": {
        "colab": {
          "base_uri": "https://localhost:8080/"
        },
        "id": "3sh0Z2qHo_7P",
        "outputId": "67120d9f-d18d-484f-8319-d9872d1ec44f"
      },
      "execution_count": 33,
      "outputs": [
        {
          "output_type": "execute_result",
          "data": {
            "text/plain": [
              "[2, 4, 6, 8, 1, 3, 5, 7]"
            ]
          },
          "metadata": {},
          "execution_count": 33
        }
      ]
    },
    {
      "cell_type": "code",
      "source": [
        "evens.append(22)\n",
        "evens"
      ],
      "metadata": {
        "colab": {
          "base_uri": "https://localhost:8080/"
        },
        "id": "t2nWKcpZpbK6",
        "outputId": "0961c532-0734-4a00-d239-318a3bc454f2"
      },
      "execution_count": 34,
      "outputs": [
        {
          "output_type": "execute_result",
          "data": {
            "text/plain": [
              "[2, 4, 6, 8, 22]"
            ]
          },
          "metadata": {},
          "execution_count": 34
        }
      ]
    },
    {
      "cell_type": "code",
      "source": [
        "num = float(input('Enter any num: '))\n",
        "\n",
        "if num > int(num):\n",
        "  print('Double detected')\n",
        "else:\n",
        "  print('Integer detected')"
      ],
      "metadata": {
        "colab": {
          "base_uri": "https://localhost:8080/"
        },
        "id": "JXsnhf4qtIA_",
        "outputId": "af87a9d8-773e-4145-d39d-ff693527f615"
      },
      "execution_count": 66,
      "outputs": [
        {
          "output_type": "stream",
          "name": "stdout",
          "text": [
            "Enter any num: 2.5\n",
            "Double detected\n"
          ]
        }
      ]
    },
    {
      "cell_type": "code",
      "source": [
        "nums = [7, 3, 8, 2, 9]\n",
        "\n",
        "for n in nums:\n",
        "  print(f\"{n} is {'odd' if n % 2 else 'even'}\")"
      ],
      "metadata": {
        "colab": {
          "base_uri": "https://localhost:8080/"
        },
        "id": "CbQch1qIJKOz",
        "outputId": "3bccfd5f-9ba0-4646-99d7-048ae940b506"
      },
      "execution_count": 67,
      "outputs": [
        {
          "output_type": "stream",
          "name": "stdout",
          "text": [
            "7 is odd\n",
            "3 is odd\n",
            "8 is even\n",
            "2 is even\n",
            "9 is odd\n"
          ]
        }
      ]
    },
    {
      "cell_type": "code",
      "source": [
        "for n in range(0, 10, 2):\n",
        "  print(n, end=', ')\n",
        "\n",
        "type(range(0, 10))"
      ],
      "metadata": {
        "colab": {
          "base_uri": "https://localhost:8080/"
        },
        "id": "Lzr3Cqk1J64O",
        "outputId": "63c4e553-75d1-439e-bb9d-4db1c44970ae"
      },
      "execution_count": 83,
      "outputs": [
        {
          "output_type": "stream",
          "name": "stdout",
          "text": [
            "0, 2, 4, 6, 8, "
          ]
        },
        {
          "output_type": "execute_result",
          "data": {
            "text/plain": [
              "range"
            ]
          },
          "metadata": {},
          "execution_count": 83
        }
      ]
    },
    {
      "cell_type": "code",
      "source": [
        "# Find maximum\n",
        "odd_nums = list(range(3, 10, 2))\n",
        "max = odd_nums[0]\n",
        "\n",
        "for i in range(1, len(odd_nums)):\n",
        "  if odd_nums[i] > max:\n",
        "    max = odd_nums[i]\n",
        "\n",
        "max"
      ],
      "metadata": {
        "colab": {
          "base_uri": "https://localhost:8080/"
        },
        "id": "jCegX2lULOWh",
        "outputId": "b456e3c8-4142-4d75-9e39-a77f576ac8e9"
      },
      "execution_count": 134,
      "outputs": [
        {
          "output_type": "execute_result",
          "data": {
            "text/plain": [
              "9"
            ]
          },
          "metadata": {},
          "execution_count": 134
        }
      ]
    },
    {
      "cell_type": "code",
      "source": [
        "fruits = ['Apple', 'Mango', 'Orange']\n",
        "\n",
        "list(enumerate(fruits)) # Equivalent to Object.entries() in JavaScript"
      ],
      "metadata": {
        "colab": {
          "base_uri": "https://localhost:8080/"
        },
        "id": "KS9rJKITMoAC",
        "outputId": "ca8a1425-7426-40ad-d9e3-718d1d5a2919"
      },
      "execution_count": 105,
      "outputs": [
        {
          "output_type": "execute_result",
          "data": {
            "text/plain": [
              "[(0, 'Apple'), (1, 'Mango'), (2, 'Orange')]"
            ]
          },
          "metadata": {},
          "execution_count": 105
        }
      ]
    },
    {
      "cell_type": "code",
      "source": [
        "for i, fruit in list(enumerate(fruits)):\n",
        "  print(f'{i} - {fruit}')"
      ],
      "metadata": {
        "colab": {
          "base_uri": "https://localhost:8080/"
        },
        "id": "RLYY0b37MpNO",
        "outputId": "3e6f81af-1b95-4e67-9c6d-59c4e6734f80"
      },
      "execution_count": 111,
      "outputs": [
        {
          "output_type": "stream",
          "name": "stdout",
          "text": [
            "0 - Apple\n",
            "1 - Mango\n",
            "2 - Orange\n"
          ]
        }
      ]
    },
    {
      "cell_type": "code",
      "source": [
        "list(zip([2, 4, 6, 8], fruits))"
      ],
      "metadata": {
        "colab": {
          "base_uri": "https://localhost:8080/"
        },
        "id": "3g2QPmkERdHk",
        "outputId": "8302964b-6ef0-4e90-d440-782a0a65bcbb"
      },
      "execution_count": 115,
      "outputs": [
        {
          "output_type": "execute_result",
          "data": {
            "text/plain": [
              "[(2, 'Apple'), (4, 'Mango'), (6, 'Orange')]"
            ]
          },
          "metadata": {},
          "execution_count": 115
        }
      ]
    },
    {
      "cell_type": "code",
      "source": [
        "# LOOPS"
      ],
      "metadata": {
        "id": "ktGforHqSqJ_"
      },
      "execution_count": 119,
      "outputs": []
    },
    {
      "cell_type": "code",
      "source": [
        "# Tell which members of a list have factors greater than 10\n",
        "import random\n",
        "\n",
        "total_nums = 7\n",
        "my_nums = [random.randint(15, 30) for x in range(0, total_nums)] # Generate random nums\n",
        "\n",
        "print(my_nums)\n",
        "\n",
        "for n in my_nums:\n",
        "  if n / 2 <= 10:\n",
        "    print(f'{n} has no factors greater than 10')\n",
        "    continue\n",
        "  for i in range(11, n // 2):\n",
        "    if not (n % i):\n",
        "      print(f'{n} HAS factors greater than 10')\n",
        "      break\n",
        "  else:\n",
        "    print(f'{n} has no factors greater than 10')\n",
        "\n",
        "\n"
      ],
      "metadata": {
        "colab": {
          "base_uri": "https://localhost:8080/"
        },
        "id": "Jy-XVyBHUZJS",
        "outputId": "531c51ac-fb4f-416f-c52c-60b497a087a2"
      },
      "execution_count": 144,
      "outputs": [
        {
          "output_type": "stream",
          "name": "stdout",
          "text": [
            "[27, 16, 24, 16, 24, 24, 22]\n",
            "16 has no factors greater than 10\n",
            "16 has no factors greater than 10\n"
          ]
        }
      ]
    }
  ]
}