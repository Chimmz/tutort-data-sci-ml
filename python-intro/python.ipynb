{
 "cells": [
  {
   "cell_type": "code",
   "execution_count": 7,
   "metadata": {},
   "outputs": [
    {
     "data": {
      "text/plain": [
       "'1'"
      ]
     },
     "execution_count": 7,
     "metadata": {},
     "output_type": "execute_result"
    }
   ],
   "source": [
    "arr = '1, 2, 3'\n",
    "(a, b, c) = arr.split(', ')\n",
    "\n",
    "a"
   ]
  },
  {
   "cell_type": "code",
   "execution_count": 10,
   "metadata": {},
   "outputs": [
    {
     "name": "stdout",
     "output_type": "stream",
     "text": [
      "9\n"
     ]
    }
   ],
   "source": [
    "a, b, c, d = 3, 7, 2, 9\n",
    "\n",
    "max = a\n",
    "\n",
    "if b > a:\n",
    "  max = b\n",
    "if c > max:\n",
    "  max = c\n",
    "if d > max:\n",
    "  max = d\n",
    "\n",
    "print(max)\n"
   ]
  },
  {
   "cell_type": "code",
   "execution_count": 11,
   "metadata": {},
   "outputs": [
    {
     "name": "stdout",
     "output_type": "stream",
     "text": [
      "C\n"
     ]
    }
   ],
   "source": [
    "mark = float(input('Enter student\\'s mark: '))\n",
    "\n",
    "if mark >= 90 and mark <= 100:\n",
    "  print('A')\n",
    "elif mark >= 80 and mark <= 90:\n",
    "  print('B')\n",
    "elif mark >= 70 and mark <= 80:\n",
    "  print('C')\n",
    "elif mark >= 60 and mark <= 70:\n",
    "  print('D')\n",
    "else:\n",
    "  print('E')"
   ]
  },
  {
   "cell_type": "code",
   "execution_count": 15,
   "metadata": {},
   "outputs": [
    {
     "ename": "SyntaxError",
     "evalue": "invalid syntax (535359517.py, line 12)",
     "output_type": "error",
     "traceback": [
      "\u001b[1;36m  Cell \u001b[1;32mIn[15], line 12\u001b[1;36m\u001b[0m\n\u001b[1;33m    if (userInput.trim().toLowerCase() != 'yes') {\u001b[0m\n\u001b[1;37m                                                 ^\u001b[0m\n\u001b[1;31mSyntaxError\u001b[0m\u001b[1;31m:\u001b[0m invalid syntax\n"
     ]
    }
   ],
   "source": [
    "bmi = float(input('Enter BMI: '))\n",
    "\n",
    "if (bmi < 18.5):\n",
    "  print('Underweight')\n",
    "elif (bmi >= 30):\n",
    "  print('Obese')\n",
    "elif bmi <= 25:\n",
    "  print('Normal weight')\n",
    "elif bmi < 30:\n",
    "  print('Overweight')"
   ]
  },
  {
   "cell_type": "code",
   "execution_count": null,
   "metadata": {},
   "outputs": [],
   "source": []
  }
 ],
 "metadata": {
  "kernelspec": {
   "display_name": "base",
   "language": "python",
   "name": "python3"
  },
  "language_info": {
   "codemirror_mode": {
    "name": "ipython",
    "version": 3
   },
   "file_extension": ".py",
   "mimetype": "text/x-python",
   "name": "python",
   "nbconvert_exporter": "python",
   "pygments_lexer": "ipython3",
   "version": "3.11.5"
  }
 },
 "nbformat": 4,
 "nbformat_minor": 2
}
