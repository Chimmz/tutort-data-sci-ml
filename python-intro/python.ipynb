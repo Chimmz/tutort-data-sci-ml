{
 "cells": [
  {
   "cell_type": "code",
   "execution_count": 7,
   "metadata": {},
   "outputs": [
    {
     "data": {
      "text/plain": [
       "'1'"
      ]
     },
     "execution_count": 7,
     "metadata": {},
     "output_type": "execute_result"
    }
   ],
   "source": [
    "arr = '1, 2, 3'\n",
    "(a, b, c) = arr.split(', ')\n",
    "\n",
    "a"
   ]
  },
  {
   "cell_type": "code",
   "execution_count": 10,
   "metadata": {},
   "outputs": [
    {
     "name": "stdout",
     "output_type": "stream",
     "text": [
      "9\n"
     ]
    }
   ],
   "source": [
    "a, b, c, d = 3, 7, 2, 9\n",
    "\n",
    "max = a\n",
    "\n",
    "if b > a:\n",
    "  max = b\n",
    "if c > max:\n",
    "  max = c\n",
    "if d > max:\n",
    "  max = d\n",
    "\n",
    "print(max)\n"
   ]
  },
  {
   "cell_type": "code",
   "execution_count": 11,
   "metadata": {},
   "outputs": [
    {
     "name": "stdout",
     "output_type": "stream",
     "text": [
      "C\n"
     ]
    }
   ],
   "source": [
    "mark = float(input('Enter student\\'s mark: '))\n",
    "\n",
    "if mark >= 90 and mark <= 100:\n",
    "  print('A')\n",
    "elif mark >= 80 and mark <= 90:\n",
    "  print('B')\n",
    "elif mark >= 70 and mark <= 80:\n",
    "  print('C')\n",
    "elif mark >= 60 and mark <= 70:\n",
    "  print('D')\n",
    "else:\n",
    "  print('E')"
   ]
  },
  {
   "cell_type": "code",
   "execution_count": 1,
   "metadata": {},
   "outputs": [
    {
     "name": "stdout",
     "output_type": "stream",
     "text": [
      "Underweight\n"
     ]
    }
   ],
   "source": [
    "bmi = float(input('Enter BMI: '))\n",
    "\n",
    "if (bmi < 18.5):\n",
    "  print('Underweight')\n",
    "elif (bmi >= 30):\n",
    "  print('Obese')\n",
    "elif bmi <= 25:\n",
    "  print('Normal weight')\n",
    "elif bmi < 30:\n",
    "  print('Overweight')"
   ]
  },
  {
   "cell_type": "code",
   "execution_count": 26,
   "metadata": {},
   "outputs": [
    {
     "name": "stdout",
     "output_type": "stream",
     "text": [
      "[3, 6, 9]\n",
      "[10, 9, 8, 6, 5, 3]\n",
      "[6, 5, 3]\n"
     ]
    }
   ],
   "source": [
    "nums = [3, 5, 6, 8, 9, 10]\n",
    "\n",
    "print(nums[::2]) # Step of 2\n",
    "print(nums[::-1]) # Step of 1, but reverse\n",
    "print(nums[2::-1]) "
   ]
  },
  {
   "cell_type": "code",
   "execution_count": 30,
   "metadata": {},
   "outputs": [
    {
     "data": {
      "text/plain": [
       "([2, 4, 6, 8, 10], [1, 3, 5, 7, 9])"
      ]
     },
     "execution_count": 30,
     "metadata": {},
     "output_type": "execute_result"
    }
   ],
   "source": [
    "nums = list(range(1, 11))\n",
    "nums[1::2], nums[::2]"
   ]
  },
  {
   "cell_type": "code",
   "execution_count": 32,
   "metadata": {},
   "outputs": [
    {
     "data": {
      "text/plain": [
       "[3, 5]"
      ]
     },
     "execution_count": 32,
     "metadata": {},
     "output_type": "execute_result"
    }
   ],
   "source": [
    "start, end, step = input('Start, stop, step: ').split(', ')\n",
    "start, end, step = int(start), int(end), int(step)\n",
    "nums[start : end : step]"
   ]
  },
  {
   "cell_type": "code",
   "execution_count": 36,
   "metadata": {},
   "outputs": [
    {
     "data": {
      "text/plain": [
       "[]"
      ]
     },
     "execution_count": 36,
     "metadata": {},
     "output_type": "execute_result"
    }
   ],
   "source": [
    "nums[2:7:-1]"
   ]
  }
 ],
 "metadata": {
  "kernelspec": {
   "display_name": "base",
   "language": "python",
   "name": "python3"
  },
  "language_info": {
   "codemirror_mode": {
    "name": "ipython",
    "version": 3
   },
   "file_extension": ".py",
   "mimetype": "text/x-python",
   "name": "python",
   "nbconvert_exporter": "python",
   "pygments_lexer": "ipython3",
   "version": "3.11.5"
  }
 },
 "nbformat": 4,
 "nbformat_minor": 2
}
