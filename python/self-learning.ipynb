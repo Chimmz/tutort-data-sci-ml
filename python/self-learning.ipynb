{
 "cells": [
  {
   "cell_type": "code",
   "execution_count": 5,
   "metadata": {
    "colab": {
     "base_uri": "https://localhost:8080/"
    },
    "id": "bkU0Y88vtdjX",
    "outputId": "b437e8dc-b59d-44e3-c471-d92b2bfa93c3"
   },
   "outputs": [
    {
     "data": {
      "text/plain": [
       "(0.9959678311532036, 8)"
      ]
     },
     "execution_count": 5,
     "metadata": {},
     "output_type": "execute_result"
    }
   ],
   "source": [
    "import random\n",
    "\n",
    "random, randint = random.random, random.randint\n",
    "random(), randint(1, 10)"
   ]
  },
  {
   "cell_type": "code",
   "execution_count": 7,
   "metadata": {
    "colab": {
     "base_uri": "https://localhost:8080/"
    },
    "id": "4SZRLZcJATpc",
    "outputId": "e428efc7-64a7-44e1-c052-bfec2429b931"
   },
   "outputs": [
    {
     "data": {
      "text/plain": [
       "95.0"
      ]
     },
     "execution_count": 7,
     "metadata": {},
     "output_type": "execute_result"
    }
   ],
   "source": [
    "float(input('Temperature in celsius: ')) * 9 / 5 + 32"
   ]
  },
  {
   "cell_type": "code",
   "execution_count": 1,
   "metadata": {
    "colab": {
     "base_uri": "https://localhost:8080/",
     "height": 35
    },
    "id": "fzldB7byD2dg",
    "outputId": "2f6b123c-68e5-430a-80aa-4d7da265a6bd"
   },
   "outputs": [
    {
     "data": {
      "text/plain": [
       "'C:\\\\user\\\\Chima'"
      ]
     },
     "execution_count": 1,
     "metadata": {},
     "output_type": "execute_result"
    }
   ],
   "source": [
    "a = r'C:\\user\\Chima'\n",
    "a"
   ]
  },
  {
   "cell_type": "code",
   "execution_count": 8,
   "metadata": {
    "colab": {
     "base_uri": "https://localhost:8080/",
     "height": 35
    },
    "id": "mJbktjU-j7nB",
    "outputId": "56bd1f97-7319-4b8d-ff9f-e31ce47708fe"
   },
   "outputs": [
    {
     "data": {
      "application/vnd.google.colaboratory.intrinsic+json": {
       "type": "string"
      },
      "text/plain": [
       "'Hi'"
      ]
     },
     "execution_count": 8,
     "metadata": {},
     "output_type": "execute_result"
    }
   ],
   "source": [
    "# Using \\ to prevent new line\n",
    "'''\\\n",
    "Hi'''"
   ]
  },
  {
   "cell_type": "code",
   "execution_count": 10,
   "metadata": {
    "colab": {
     "base_uri": "https://localhost:8080/",
     "height": 35
    },
    "id": "EX_SlW1Xj9tF",
    "outputId": "b7f3134e-2420-4b3d-a55b-370b53f3e956"
   },
   "outputs": [
    {
     "data": {
      "application/vnd.google.colaboratory.intrinsic+json": {
       "type": "string"
      },
      "text/plain": [
       "'BaBa God'"
      ]
     },
     "execution_count": 10,
     "metadata": {},
     "output_type": "execute_result"
    }
   ],
   "source": [
    "2 * 'Ba' + ' God'"
   ]
  },
  {
   "cell_type": "code",
   "execution_count": 18,
   "metadata": {
    "colab": {
     "base_uri": "https://localhost:8080/"
    },
    "id": "FD65ZHOJlJwc",
    "outputId": "4f371814-b9d7-4433-c03f-eacfeba6b21f"
   },
   "outputs": [
    {
     "data": {
      "text/plain": [
       "('n', 'ython', 'Pyth', 'hon', '', {'length': 6})"
      ]
     },
     "execution_count": 18,
     "metadata": {},
     "output_type": "execute_result"
    }
   ],
   "source": [
    "str = 'Python'\n",
    "\n",
    "str[-1], str[1:], str[:4], str[-3:], str[10:], {'length': len(str)}"
   ]
  },
  {
   "cell_type": "code",
   "execution_count": null,
   "metadata": {
    "colab": {
     "base_uri": "https://localhost:8080/"
    },
    "id": "JXsnhf4qtIA_",
    "outputId": "af87a9d8-773e-4145-d39d-ff693527f615"
   },
   "outputs": [],
   "source": [
    "# Program to detect if a user input is int or double \n",
    "num = float(input('Enter any num: '))\n",
    "\n",
    "if num > int(num):\n",
    "  print('Double detected')\n",
    "else:\n",
    "  print('Integer detected')"
   ]
  },
  {
   "cell_type": "code",
   "execution_count": 67,
   "metadata": {
    "colab": {
     "base_uri": "https://localhost:8080/"
    },
    "id": "CbQch1qIJKOz",
    "outputId": "3bccfd5f-9ba0-4646-99d7-048ae940b506"
   },
   "outputs": [
    {
     "name": "stdout",
     "output_type": "stream",
     "text": [
      "7 is odd\n",
      "3 is odd\n",
      "8 is even\n",
      "2 is even\n",
      "9 is odd\n"
     ]
    }
   ],
   "source": [
    "nums = [7, 3, 8, 2, 9]\n",
    "\n",
    "for n in nums:\n",
    "  print(f\"{n} is {'odd' if n % 2 else 'even'}\")"
   ]
  },
  {
   "cell_type": "code",
   "execution_count": 83,
   "metadata": {
    "colab": {
     "base_uri": "https://localhost:8080/"
    },
    "id": "Lzr3Cqk1J64O",
    "outputId": "63c4e553-75d1-439e-bb9d-4db1c44970ae"
   },
   "outputs": [
    {
     "name": "stdout",
     "output_type": "stream",
     "text": [
      "0, 2, 4, 6, 8, "
     ]
    },
    {
     "data": {
      "text/plain": [
       "range"
      ]
     },
     "execution_count": 83,
     "metadata": {},
     "output_type": "execute_result"
    }
   ],
   "source": [
    "for n in range(0, 10, 2):\n",
    "  print(n, end=', ')\n",
    "\n",
    "type(range(0, 10))"
   ]
  },
  {
   "cell_type": "code",
   "execution_count": 134,
   "metadata": {
    "colab": {
     "base_uri": "https://localhost:8080/"
    },
    "id": "jCegX2lULOWh",
    "outputId": "b456e3c8-4142-4d75-9e39-a77f576ac8e9"
   },
   "outputs": [
    {
     "data": {
      "text/plain": [
       "9"
      ]
     },
     "execution_count": 134,
     "metadata": {},
     "output_type": "execute_result"
    }
   ],
   "source": [
    "# Find maximum\n",
    "odd_nums = list(range(3, 10, 2))\n",
    "max = odd_nums[0]\n",
    "\n",
    "for i in range(1, len(odd_nums)):\n",
    "  if odd_nums[i] > max:\n",
    "    max = odd_nums[i]\n",
    "\n",
    "max"
   ]
  },
  {
   "cell_type": "code",
   "execution_count": 1,
   "metadata": {
    "colab": {
     "base_uri": "https://localhost:8080/"
    },
    "id": "KS9rJKITMoAC",
    "outputId": "ca8a1425-7426-40ad-d9e3-718d1d5a2919"
   },
   "outputs": [
    {
     "data": {
      "text/plain": [
       "[(0, 'Apple'), (1, 'Mango'), (2, 'Orange')]"
      ]
     },
     "execution_count": 1,
     "metadata": {},
     "output_type": "execute_result"
    }
   ],
   "source": [
    "fruits = ['Apple', 'Mango', 'Orange']\n",
    "\n",
    "list(enumerate(fruits)) # Equivalent to Object.entries() in JavaScript"
   ]
  },
  {
   "cell_type": "code",
   "execution_count": 111,
   "metadata": {
    "colab": {
     "base_uri": "https://localhost:8080/"
    },
    "id": "RLYY0b37MpNO",
    "outputId": "3e6f81af-1b95-4e67-9c6d-59c4e6734f80"
   },
   "outputs": [
    {
     "name": "stdout",
     "output_type": "stream",
     "text": [
      "0 - Apple\n",
      "1 - Mango\n",
      "2 - Orange\n"
     ]
    }
   ],
   "source": [
    "for i, fruit in list(enumerate(fruits)):\n",
    "  print(f'{i} - {fruit}')"
   ]
  },
  {
   "cell_type": "code",
   "execution_count": 115,
   "metadata": {
    "colab": {
     "base_uri": "https://localhost:8080/"
    },
    "id": "3g2QPmkERdHk",
    "outputId": "8302964b-6ef0-4e90-d440-782a0a65bcbb"
   },
   "outputs": [
    {
     "data": {
      "text/plain": [
       "[(2, 'Apple'), (4, 'Mango'), (6, 'Orange')]"
      ]
     },
     "execution_count": 115,
     "metadata": {},
     "output_type": "execute_result"
    }
   ],
   "source": [
    "list(zip([2, 4, 6, 8], fruits))"
   ]
  },
  {
   "cell_type": "code",
   "execution_count": 119,
   "metadata": {
    "id": "ktGforHqSqJ_"
   },
   "outputs": [],
   "source": [
    "# LOOPS"
   ]
  },
  {
   "cell_type": "code",
   "execution_count": 144,
   "metadata": {
    "colab": {
     "base_uri": "https://localhost:8080/"
    },
    "id": "Jy-XVyBHUZJS",
    "outputId": "531c51ac-fb4f-416f-c52c-60b497a087a2"
   },
   "outputs": [
    {
     "name": "stdout",
     "output_type": "stream",
     "text": [
      "[27, 16, 24, 16, 24, 24, 22]\n",
      "16 has no factors greater than 10\n",
      "16 has no factors greater than 10\n"
     ]
    }
   ],
   "source": [
    "# Tell which members of a list have factors greater than 10\n",
    "import random\n",
    "\n",
    "total_nums = 7\n",
    "my_nums = [random.randint(15, 30) for x in range(0, total_nums)] # Generate random nums\n",
    "\n",
    "print(my_nums)\n",
    "\n",
    "for n in my_nums:\n",
    "  if n / 2 <= 10:\n",
    "    print(f'{n} has no factors greater than 10')\n",
    "    continue\n",
    "  for i in range(11, n // 2):\n",
    "    if not (n % i):\n",
    "      print(f'{n} HAS factors greater than 10')\n",
    "      break\n",
    "  else:\n",
    "    print(f'{n} has no factors greater than 10')\n"
   ]
  },
  {
   "cell_type": "code",
   "execution_count": 16,
   "metadata": {},
   "outputs": [
    {
     "name": "stdout",
     "output_type": "stream",
     "text": [
      "Some remainder\n"
     ]
    }
   ],
   "source": [
    "num = int(input('Enter any number: '))\n",
    "\n",
    "match num % 3:\n",
    "  case 0: print('No remainder')\n",
    "  case 1 | 2: print('Some remainder')\n",
    "  case _: print('Some other remainder') # Wildcard is used as DEFAULT or ELSE\n"
   ]
  },
  {
   "cell_type": "code",
   "execution_count": 6,
   "metadata": {},
   "outputs": [
    {
     "data": {
      "text/plain": [
       "[3, 4, [5, 6]]"
      ]
     },
     "execution_count": 6,
     "metadata": {},
     "output_type": "execute_result"
    }
   ],
   "source": [
    "coords = input('Enter x, y coords: ')\n",
    "x, y = tuple(coords.split(', '))\n",
    "x, y = int(x), int(y)\n",
    "\n",
    "match (x, y):\n",
    "  case (0, 0):\n",
    "    print('y = 0')\n",
    "\n",
    "  case (0, y) if not y % 2:\n",
    "    print('y = c')\n",
    "\n",
    "  case x, 0:\n",
    "    print('y = mx')\n",
    "  \n",
    "  case _:\n",
    "    print(f'y = {x}m + c')\n",
    "\n"
   ]
  },
  {
   "cell_type": "markdown",
   "metadata": {},
   "source": [
    "###  Functions"
   ]
  },
  {
   "cell_type": "code",
   "execution_count": 24,
   "metadata": {},
   "outputs": [
    {
     "data": {
      "text/plain": [
       "'Zero'"
      ]
     },
     "execution_count": 24,
     "metadata": {},
     "output_type": "execute_result"
    }
   ],
   "source": [
    "\n",
    "def describe_num(num: int):\n",
    "  isNegative = num < 0\n",
    "  return 'Negative' if isNegative else ('Zero' if not num else 'Positive')\n",
    "\n",
    "describe_num(0)"
   ]
  },
  {
   "cell_type": "code",
   "execution_count": 4,
   "metadata": {},
   "outputs": [
    {
     "name": "stdout",
     "output_type": "stream",
     "text": [
      "Hello Chima\n"
     ]
    }
   ],
   "source": [
    "def greet_user(greeting = 'Hi', name_prompt = 'Enter your name'):\n",
    "  user_name = input(name_prompt)\n",
    "  print(greeting + ' ' + user_name)\n",
    "\n",
    "greet_user('Hello', name_prompt='Your name: ')"
   ]
  },
  {
   "cell_type": "code",
   "execution_count": 7,
   "metadata": {},
   "outputs": [
    {
     "name": "stdout",
     "output_type": "stream",
     "text": [
      "Args: (5, 3, 7)\n",
      "Keywords: {'even_num': 18, 'add_num': 19}\n"
     ]
    }
   ],
   "source": [
    "def add_nums(*args, **keywds):\n",
    "  print('Args:', args)\n",
    "  print('Keywords:', keywds)\n",
    "\n",
    "add_nums(5, 3, 7, even_num=18, add_num=19)"
   ]
  },
  {
   "cell_type": "markdown",
   "metadata": {},
   "source": [
    "##### Specifying Positional or Keyword Arguments"
   ]
  },
  {
   "cell_type": "code",
   "execution_count": 12,
   "metadata": {},
   "outputs": [
    {
     "name": "stdout",
     "output_type": "stream",
     "text": [
      "Product: 6\n"
     ]
    }
   ],
   "source": [
    "# Parameters BEFORE a '/' are positional-only params\n",
    "\n",
    "def multiply_two(a, b, /):\n",
    "  print('Product:', a * b)\n",
    "\n",
    "multiply_two(3, 2)"
   ]
  },
  {
   "cell_type": "code",
   "execution_count": 16,
   "metadata": {},
   "outputs": [
    {
     "name": "stdout",
     "output_type": "stream",
     "text": [
      "3 - 6 = -3\n"
     ]
    }
   ],
   "source": [
    "# Parameters AFTER an '*' are kwyword-only params\n",
    "\n",
    "def do_operation(a, b, *, operator):\n",
    "  match operator:\n",
    "    case '+' | 'sum' | 'add':\n",
    "      print(f'{a} + {b} = {a + b}')\n",
    "      \n",
    "    case '-':\n",
    "      print(f'{a} - {b} = {a - b}')\n",
    "\n",
    "    case '*':\n",
    "      print(f'{a} * {b} = {a * b}')\n",
    "\n",
    "    case _:\n",
    "      print('No operator specified!')\n",
    "\n",
    "do_operation(3, 6, operator='-')"
   ]
  },
  {
   "cell_type": "code",
   "execution_count": 32,
   "metadata": {},
   "outputs": [
    {
     "name": "stdout",
     "output_type": "stream",
     "text": [
      "how are you\n"
     ]
    }
   ],
   "source": [
    "# Building a concat function\n",
    "\n",
    "def concat(*strs, separator = ' '):\n",
    "  result = separator.join(strs)\n",
    "  print(result)\n",
    "\n",
    "concat('how are', 'you')\n",
    "  "
   ]
  },
  {
   "cell_type": "markdown",
   "metadata": {},
   "source": [
    "#### Using the 'unpacking' operator"
   ]
  },
  {
   "cell_type": "code",
   "execution_count": 39,
   "metadata": {},
   "outputs": [
    {
     "name": "stdout",
     "output_type": "stream",
     "text": [
      "Chima Divine Orji\n"
     ]
    }
   ],
   "source": [
    "nums = (3, 7)\n",
    "range(*nums)\n",
    "\n",
    "my_names = ['Chima', 'Divine', 'Orji']\n",
    "concat(*my_names)"
   ]
  },
  {
   "cell_type": "code",
   "execution_count": null,
   "metadata": {},
   "outputs": [],
   "source": [
    "# It works here as a spread operator, I don't know why\n",
    "user_list = [*map(int, input('Enter values: ').split(', '))]\n",
    "user_list"
   ]
  },
  {
   "cell_type": "markdown",
   "metadata": {},
   "source": [
    "##### Dictionaries can be used as keyword arguments to a function when desctructured"
   ]
  },
  {
   "cell_type": "code",
   "execution_count": 69,
   "metadata": {},
   "outputs": [
    {
     "name": "stdout",
     "output_type": "stream",
     "text": [
      "Chima is 23 years old\n"
     ]
    },
    {
     "data": {
      "text/plain": [
       "'Hey'"
      ]
     },
     "execution_count": 69,
     "metadata": {},
     "output_type": "execute_result"
    }
   ],
   "source": [
    "def describe_person(name, age):\n",
    "  print(f\"{name} is {age} years old\")\n",
    "\n",
    "\n",
    "mydict = {'name': 'Chima', 'age': 23 }\n",
    "describe_person(**mydict)\n",
    "\n",
    "\n",
    "# list(mydict.items())\n",
    "# list(mydict)"
   ]
  },
  {
   "cell_type": "markdown",
   "metadata": {},
   "source": [
    "#### Lambda Functions"
   ]
  },
  {
   "cell_type": "code",
   "execution_count": 11,
   "metadata": {},
   "outputs": [
    {
     "data": {
      "text/plain": [
       "18"
      ]
     },
     "execution_count": 11,
     "metadata": {},
     "output_type": "execute_result"
    }
   ],
   "source": [
    "def doubler():\n",
    "  return lambda x: x * 2\n",
    "\n",
    "fn = doubler()\n",
    "fn(9)"
   ]
  },
  {
   "cell_type": "code",
   "execution_count": 31,
   "metadata": {},
   "outputs": [
    {
     "data": {
      "text/plain": [
       "[(3, 'three'), (1, 'one'), (2, 'two'), (4, 'four')]"
      ]
     },
     "execution_count": 31,
     "metadata": {},
     "output_type": "execute_result"
    }
   ],
   "source": [
    "pairs = [(2, 'two'), (3, 'three'), (1, 'one'), (4, 'four')]\n",
    "\n",
    "pairs.sort(key=lambda x: not x[0] % 2)\n",
    "pairs\n",
    "\n"
   ]
  },
  {
   "cell_type": "code",
   "execution_count": 36,
   "metadata": {},
   "outputs": [
    {
     "data": {
      "text/plain": [
       "['Even', 'Odd', 'Odd', 'Even']"
      ]
     },
     "execution_count": 36,
     "metadata": {},
     "output_type": "execute_result"
    }
   ],
   "source": [
    "pairs = [(2, 'two'), (3, 'three'), (1, 'one'), (4, 'four')]\n",
    "\n",
    "a = [(lambda x: 'Odd' if x[0] % 2 else 'Even')(x) \n",
    "     for x in pairs]\n",
    "a"
   ]
  },
  {
   "cell_type": "markdown",
   "metadata": {},
   "source": [
    "##### Data Structures"
   ]
  },
  {
   "cell_type": "code",
   "execution_count": 12,
   "metadata": {},
   "outputs": [
    {
     "data": {
      "text/plain": [
       "4"
      ]
     },
     "execution_count": 12,
     "metadata": {},
     "output_type": "execute_result"
    }
   ],
   "source": [
    "arr = [3, 63, 9, 23, 9, 74]\n",
    "\n",
    "arr.index(9, 3, 7) # Find the index of 9 between 3 and 7"
   ]
  },
  {
   "cell_type": "markdown",
   "metadata": {},
   "source": [
    "#### List Comprehension"
   ]
  },
  {
   "cell_type": "code",
   "execution_count": 19,
   "metadata": {},
   "outputs": [
    {
     "data": {
      "text/plain": [
       "[1, 4, 9, 16]"
      ]
     },
     "execution_count": 19,
     "metadata": {},
     "output_type": "execute_result"
    }
   ],
   "source": [
    "nums = [1, 2, 3, 4]\n",
    "\n",
    "squares = list(map(lambda x: x**2, nums))\n",
    "# OR \n",
    "squares = [x**2 for x in nums]\n",
    "squares"
   ]
  },
  {
   "cell_type": "code",
   "execution_count": 22,
   "metadata": {},
   "outputs": [
    {
     "data": {
      "text/plain": [
       "[('a', 1), ('a', 3), ('b', 1), ('b', 3), ('c', 1), ('c', 3)]"
      ]
     },
     "execution_count": 22,
     "metadata": {},
     "output_type": "execute_result"
    }
   ],
   "source": [
    "# x = \n",
    "y = [1, 2, 3]\n",
    "\n",
    "combs = [(x, y) for x in ['a', 'b', 'c'] for y in [1, 2, 3] if y % 2]\n",
    "combs"
   ]
  },
  {
   "cell_type": "code",
   "execution_count": 40,
   "metadata": {},
   "outputs": [
    {
     "data": {
      "text/plain": [
       "[(1, 4, 7), (2, 5, 8), (3, 6, 9)]"
      ]
     },
     "execution_count": 40,
     "metadata": {},
     "output_type": "execute_result"
    }
   ],
   "source": [
    "vectors = [[1, 2, 3], [4, 5, 6], [7, 8, 9]]\n",
    "\n",
    "flattened_vectors = [n for v in vectors for n in v]\n",
    "\n",
    "transposed = [*zip(*vectors)]\n",
    "transposed"
   ]
  },
  {
   "cell_type": "code",
   "execution_count": 1,
   "metadata": {},
   "outputs": [
    {
     "data": {
      "text/plain": [
       "2"
      ]
     },
     "execution_count": 1,
     "metadata": {},
     "output_type": "execute_result"
    }
   ],
   "source": [
    "# The del statement\n",
    "\n",
    "nums = [1, 2, 3, 4, 5, 6, 7, 8, 9]\n",
    "\n",
    "# del nums[0]\n",
    "# del nums[3:6]\n",
    "del nums[:]\n",
    "nums\n",
    "\n",
    "######### Can also be used to delete variables\n",
    "a = 2\n",
    "# del a\n",
    "a"
   ]
  },
  {
   "cell_type": "markdown",
   "metadata": {},
   "source": [
    "#### Tuples"
   ]
  },
  {
   "cell_type": "code",
   "execution_count": 14,
   "metadata": {},
   "outputs": [
    {
     "data": {
      "text/plain": [
       "(12, 'cat', False)"
      ]
     },
     "execution_count": 14,
     "metadata": {},
     "output_type": "execute_result"
    }
   ],
   "source": [
    "tup = 12, 'cat', False\n",
    "tup[0]\n",
    "\n",
    "# tup[0] = '12' # Tuples are immutable\n",
    "tup"
   ]
  },
  {
   "cell_type": "markdown",
   "metadata": {},
   "source": [
    "#### Dictionaries"
   ]
  },
  {
   "cell_type": "code",
   "execution_count": 21,
   "metadata": {},
   "outputs": [
    {
     "data": {
      "text/plain": [
       "True"
      ]
     },
     "execution_count": 21,
     "metadata": {},
     "output_type": "execute_result"
    }
   ],
   "source": [
    "nums = { 'two': 2, 'one': 1, 'three': 3 }\n",
    "\n",
    "# del nums['two']\n",
    "\n",
    "[*nums] # OR list(nums)\n",
    "\n",
    "sorted(nums) # Creates list of the dict's keys and sorts\n",
    "\n",
    "'one' in nums"
   ]
  },
  {
   "cell_type": "code",
   "execution_count": 34,
   "metadata": {},
   "outputs": [
    {
     "data": {
      "text/plain": [
       "{'name': 'Chima', 'age': 23, 'greet': <function __main__.<lambda>()>}"
      ]
     },
     "execution_count": 34,
     "metadata": {},
     "output_type": "execute_result"
    }
   ],
   "source": [
    "person = dict([\n",
    "  ('name', 'Chima'),\n",
    "  ('age', 23),\n",
    "  ('greet', lambda: 'Hi')\n",
    "])\n",
    "person"
   ]
  },
  {
   "cell_type": "code",
   "execution_count": 23,
   "metadata": {},
   "outputs": [
    {
     "data": {
      "text/plain": [
       "{'name': 'Chima'}"
      ]
     },
     "execution_count": 23,
     "metadata": {},
     "output_type": "execute_result"
    }
   ],
   "source": [
    "nums = dict(name='Chima')\n",
    "nums"
   ]
  },
  {
   "cell_type": "code",
   "execution_count": null,
   "metadata": {},
   "outputs": [],
   "source": []
  },
  {
   "cell_type": "code",
   "execution_count": null,
   "metadata": {},
   "outputs": [],
   "source": []
  },
  {
   "cell_type": "code",
   "execution_count": 10,
   "metadata": {},
   "outputs": [
    {
     "data": {
      "text/plain": [
       "<BarContainer object of 3 artists>"
      ]
     },
     "execution_count": 10,
     "metadata": {},
     "output_type": "execute_result"
    },
    {
     "data": {
      "image/png": "[encoded data removed]",
      "text/plain": [
       "<Figure size 640x480 with 1 Axes>"
      ]
     },
     "metadata": {},
     "output_type": "display_data"
    }
   ],
   "source": [
    "import pandas as pd\n",
    "import matplotlib.pyplot as plt\n",
    "\n",
    "df = pd.DataFrame({ 'name': ['Chima', 'Gift', 'Blessed'], 'age': [23, 22, 27] })\n",
    "\n",
    "plt.bar(df.name, df.age)\n"
   ]
  },
  {
   "cell_type": "code",
   "execution_count": null,
   "metadata": {},
   "outputs": [],
   "source": []
  }
 ],
 "metadata": {
  "colab": {
   "provenance": [],
   "toc_visible": true
  },
  "kernelspec": {
   "display_name": "Python 3 (ipykernel)",
   "language": "python",
   "name": "python3"
  },
  "language_info": {
   "codemirror_mode": {
    "name": "ipython",
    "version": 3
   },
   "file_extension": ".py",
   "mimetype": "text/x-python",
   "name": "python",
   "nbconvert_exporter": "python",
   "pygments_lexer": "ipython3",
   "version": "3.11.5"
  }
 },
 "nbformat": 4,
 "nbformat_minor": 1
}
