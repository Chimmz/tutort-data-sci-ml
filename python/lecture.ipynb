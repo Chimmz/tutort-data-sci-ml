{
 "cells": [
  {
   "cell_type": "code",
   "execution_count": 7,
   "metadata": {
    "colab": {
     "base_uri": "https://localhost:8080/"
    },
    "id": "4SZRLZcJATpc",
    "outputId": "e428efc7-64a7-44e1-c052-bfec2429b931"
   },
   "outputs": [
    {
     "data": {
      "text/plain": [
       "95.0"
      ]
     },
     "execution_count": 7,
     "metadata": {},
     "output_type": "execute_result"
    }
   ],
   "source": [
    "float(input('Temperature in celsius: ')) * 9 / 5 + 32"
   ]
  },
  {
   "cell_type": "code",
   "execution_count": null,
   "metadata": {
    "colab": {
     "base_uri": "https://localhost:8080/"
    },
    "id": "QtmaubL4CiUr",
    "outputId": "5991b3e4-8aaf-4bc7-e832-116952e163fe"
   },
   "outputs": [
    {
     "name": "stdout",
     "output_type": "stream",
     "text": [
      "Enter principal: 1\n",
      "Enter rate: 2\n",
      "Enter time: 3\n",
      "Simple interest is 0.06\n"
     ]
    }
   ],
   "source": [
    "simple_interest = float(input('Enter principal: ')) * int(input('Enter rate: ')) * float(input('Enter time: ')) / 100\n",
    "print(f\"Simple interest is {simple_interest}\")"
   ]
  },
  {
   "cell_type": "code",
   "execution_count": 18,
   "metadata": {
    "colab": {
     "base_uri": "https://localhost:8080/"
    },
    "id": "FD65ZHOJlJwc",
    "outputId": "4f371814-b9d7-4433-c03f-eacfeba6b21f"
   },
   "outputs": [
    {
     "data": {
      "text/plain": [
       "('n', 'ython', 'Pyth', 'hon', '', {'length': 6})"
      ]
     },
     "execution_count": 18,
     "metadata": {},
     "output_type": "execute_result"
    }
   ],
   "source": [
    "str = 'Python'\n",
    "str[-1], str[1:], str[:4], str[-3:], str[10:], {'length': len(str)}"
   ]
  },
  {
   "cell_type": "code",
   "execution_count": 8,
   "metadata": {
    "colab": {
     "base_uri": "https://localhost:8080/"
    },
    "id": "3sh0Z2qHo_7P",
    "outputId": "67120d9f-d18d-484f-8319-d9872d1ec44f"
   },
   "outputs": [
    {
     "data": {
      "text/plain": [
       "[2, 4, 6, 8, 1, 3, 5, 7]"
      ]
     },
     "execution_count": 8,
     "metadata": {},
     "output_type": "execute_result"
    }
   ],
   "source": [
    "# LISTS\n",
    "evens = [2, 4, 6, 8]\n",
    "odds = [1, 3, 5, 7]\n",
    "\n",
    "evens + odds"
   ]
  },
  {
   "cell_type": "code",
   "execution_count": 9,
   "metadata": {
    "colab": {
     "base_uri": "https://localhost:8080/"
    },
    "id": "t2nWKcpZpbK6",
    "outputId": "0961c532-0734-4a00-d239-318a3bc454f2"
   },
   "outputs": [
    {
     "data": {
      "text/plain": [
       "[2, 4, 6, 8, 22]"
      ]
     },
     "execution_count": 9,
     "metadata": {},
     "output_type": "execute_result"
    }
   ],
   "source": [
    "evens.append(22)\n",
    "evens"
   ]
  },
  {
   "cell_type": "code",
   "execution_count": null,
   "metadata": {
    "colab": {
     "base_uri": "https://localhost:8080/"
    },
    "id": "JXsnhf4qtIA_",
    "outputId": "af87a9d8-773e-4145-d39d-ff693527f615"
   },
   "outputs": [],
   "source": [
    "num = float(input('Enter any num: '))\n",
    "\n",
    "if num > int(num):\n",
    "  print('Double detected')\n",
    "else:\n",
    "  print('Integer detected')"
   ]
  },
  {
   "cell_type": "code",
   "execution_count": 2,
   "metadata": {},
   "outputs": [
    {
     "data": {
      "text/plain": [
       "[2, 5, 3, 7, 8, 9, 2]"
      ]
     },
     "execution_count": 2,
     "metadata": {},
     "output_type": "execute_result"
    }
   ],
   "source": [
    "a = [2, 5, 3]\n",
    "# a.append(4)\n",
    "a.extend([7, 8, 9, 2])\n",
    "a"
   ]
  },
  {
   "cell_type": "code",
   "execution_count": 19,
   "metadata": {},
   "outputs": [
    {
     "data": {
      "text/plain": [
       "{2, 3, 5, 7, 8, 9}"
      ]
     },
     "execution_count": 19,
     "metadata": {},
     "output_type": "execute_result"
    }
   ],
   "source": [
    "# a.reverse()\n",
    "list(reversed(a))"
   ]
  },
  {
   "cell_type": "code",
   "execution_count": 10,
   "metadata": {},
   "outputs": [
    {
     "data": {
      "text/plain": [
       "[5, 3, 7, 8, 9]"
      ]
     },
     "execution_count": 10,
     "metadata": {},
     "output_type": "execute_result"
    }
   ],
   "source": [
    "a.remove(2)\n",
    "a"
   ]
  },
  {
   "cell_type": "code",
   "execution_count": 13,
   "metadata": {},
   "outputs": [
    {
     "data": {
      "text/plain": [
       "[]"
      ]
     },
     "execution_count": 13,
     "metadata": {},
     "output_type": "execute_result"
    }
   ],
   "source": [
    "a.clear()\n",
    "a"
   ]
  },
  {
   "cell_type": "code",
   "execution_count": 17,
   "metadata": {},
   "outputs": [
    {
     "data": {
      "text/plain": [
       "[2, 5, 3, 6, 2, 8]"
      ]
     },
     "execution_count": 17,
     "metadata": {},
     "output_type": "execute_result"
    }
   ],
   "source": [
    "a = [2, 5, 3]\n",
    "b = [6, 2, 8]\n",
    "\n",
    "a + b"
   ]
  },
  {
   "cell_type": "code",
   "execution_count": 19,
   "metadata": {},
   "outputs": [
    {
     "data": {
      "text/plain": [
       "[2, 5, 3, 2, 5, 3]"
      ]
     },
     "execution_count": 19,
     "metadata": {},
     "output_type": "execute_result"
    }
   ],
   "source": [
    "a*2"
   ]
  },
  {
   "cell_type": "code",
   "execution_count": 22,
   "metadata": {},
   "outputs": [
    {
     "data": {
      "text/plain": [
       "(True, True)"
      ]
     },
     "execution_count": 22,
     "metadata": {},
     "output_type": "execute_result"
    }
   ],
   "source": [
    "# THE MEMBERSHIP OPERATOR: is only used on iterables\n",
    "\n",
    "a = [2, 5, 3]\n",
    "\n",
    "5 in a, 12 not in a"
   ]
  },
  {
   "cell_type": "code",
   "execution_count": 41,
   "metadata": {},
   "outputs": [
    {
     "data": {
      "text/plain": [
       "(2, 8)"
      ]
     },
     "execution_count": 41,
     "metadata": {},
     "output_type": "execute_result"
    }
   ],
   "source": [
    "mylist = [2, 5, 3, 6, 2, 8]\n",
    "\n",
    "min_el, max_el = mylist[0], mylist[0]\n",
    "\n",
    "for el in mylist:\n",
    "    max_el = el if el > max_el else max_el\n",
    "    min_el = el if el < min_el else min_el\n",
    "    \n",
    "min_el, max_el"
   ]
  },
  {
   "cell_type": "code",
   "execution_count": null,
   "metadata": {},
   "outputs": [],
   "source": [
    "mylist = [2, 5, 3, 5, 2]\n",
    "\n",
    "is_palindrome = mylist[:] == mylist[::-1]\n",
    "is_palindrome"
   ]
  },
  {
   "cell_type": "code",
   "execution_count": null,
   "metadata": {},
   "outputs": [],
   "source": [
    "user_input = input('Enter some values: ').split(', ')\n",
    "nums = map(int, user_input)"
   ]
  },
  {
   "cell_type": "code",
   "execution_count": null,
   "metadata": {},
   "outputs": [],
   "source": [
    "user_input = input('Enter some values: ').split(', ')\n",
    "sum(list(map(int, user_input)))\n",
    "# Check no of occurrences of an element\n",
    "user_input = list(map(int, input('Enter values: ').split(', ')))\n",
    "user_input.count(int(input('Enter element: ')))"
   ]
  },
  {
   "cell_type": "code",
   "execution_count": null,
   "metadata": {},
   "outputs": [
    {
     "data": {
      "text/plain": [
       "[2, 4, 5]"
      ]
     },
     "execution_count": 13,
     "metadata": {},
     "output_type": "execute_result"
    }
   ],
   "source": [
    "user_input = list(map(int, input('Enter values: ').split(', ')))\n",
    "\n",
    "is_sorted = user_input == sorted(user_input)\n",
    "is_sorted"
   ]
  },
  {
   "cell_type": "code",
   "execution_count": 1,
   "metadata": {},
   "outputs": [
    {
     "data": {
      "text/plain": [
       "2"
      ]
     },
     "execution_count": 1,
     "metadata": {},
     "output_type": "execute_result"
    }
   ],
   "source": [
    "[2, 4, 3, 2].count(2)"
   ]
  },
  {
   "cell_type": "code",
   "execution_count": 5,
   "metadata": {},
   "outputs": [
    {
     "data": {
      "text/plain": [
       "[9, 2, 4]"
      ]
     },
     "execution_count": 5,
     "metadata": {},
     "output_type": "execute_result"
    }
   ],
   "source": [
    "# Assignment\n",
    "# 1. Write a program to find common elements between two lists\n",
    "a = [4, 8, 2, 9]\n",
    "b = [9, 2, 6, 4, 11]\n",
    "\n",
    "# common = [x for x in a if x in b]\n",
    "# common = list(filter(a.count, b))\n",
    "common = [*filter(a.count, b)]\n",
    "common"
   ]
  },
  {
   "cell_type": "code",
   "execution_count": 2,
   "metadata": {},
   "outputs": [
    {
     "data": {
      "text/plain": [
       "[2, 4, 6, 8, 9, 11, 14]"
      ]
     },
     "execution_count": 2,
     "metadata": {},
     "output_type": "execute_result"
    }
   ],
   "source": [
    "# 2. Write a program to remove duplicates from a list\n",
    "b = [9, 2, 6, 4, 8, 11, 8, 14, 2, 9]\n",
    "\n",
    "b = list(set(b))\n",
    "b\n"
   ]
  },
  {
   "cell_type": "code",
   "execution_count": 25,
   "metadata": {},
   "outputs": [
    {
     "data": {
      "text/plain": [
       "False"
      ]
     },
     "execution_count": 25,
     "metadata": {},
     "output_type": "execute_result"
    }
   ],
   "source": [
    "# 3. Write a program to check if a list is empty\n",
    "b = []\n",
    "is_empty = bool(b)\n",
    "is_empty"
   ]
  },
  {
   "cell_type": "code",
   "execution_count": 46,
   "metadata": {},
   "outputs": [
    {
     "data": {
      "text/plain": [
       "(True, False)"
      ]
     },
     "execution_count": 46,
     "metadata": {},
     "output_type": "execute_result"
    }
   ],
   "source": [
    "myl = [1, 7, 3, 3, 0]\n",
    "\n",
    "any(myl), all(myl) # any() returns true if there's any truthy element, all() returns true if all are truthy"
   ]
  },
  {
   "cell_type": "code",
   "execution_count": 47,
   "metadata": {},
   "outputs": [
    {
     "data": {
      "text/plain": [
       "True"
      ]
     },
     "execution_count": 47,
     "metadata": {},
     "output_type": "execute_result"
    }
   ],
   "source": [
    "# Check if a list contains an even number\n",
    "myl = [1, 7, 3, 3, 6]\n",
    "any(n for n in myl if not n % 2)"
   ]
  },
  {
   "cell_type": "code",
   "execution_count": 59,
   "metadata": {},
   "outputs": [
    {
     "data": {
      "text/plain": [
       "[15]"
      ]
     },
     "execution_count": 59,
     "metadata": {},
     "output_type": "execute_result"
    }
   ],
   "source": [
    "# Gen a list of numbers divisible by both 3 and 5 between 1-20\n",
    "[n for n in range(1, 21) if n % 3, n % 5 == 0, 0]"
   ]
  },
  {
   "cell_type": "code",
   "execution_count": 74,
   "metadata": {},
   "outputs": [
    {
     "data": {
      "text/plain": [
       "[2, 4, 5, 8, 10, 20, 25, 40, 50, 100, 125, 200, 250, 500, 1000]"
      ]
     },
     "execution_count": 74,
     "metadata": {},
     "output_type": "execute_result"
    }
   ],
   "source": [
    "# Assignment:  Create a list of divisors of a number input\n",
    "num = int(input('Enter a number: '))\n",
    "divisors = [i for i in range(2, num//2 + 1) if not num % i]\n",
    "divisors.append(num)\n",
    "divisors"
   ]
  },
  {
   "cell_type": "code",
   "execution_count": 90,
   "metadata": {},
   "outputs": [
    {
     "data": {
      "text/plain": [
       "[2, 3, 4, 5, 6, 1]"
      ]
     },
     "execution_count": 90,
     "metadata": {},
     "output_type": "execute_result"
    }
   ],
   "source": [
    "# Flattening the list\n",
    "\n",
    "nums = [[2, 3, 4], [5, 6], [1]]\n",
    "\n",
    "[n for pair in nums for n in pair]\n"
   ]
  },
  {
   "cell_type": "code",
   "execution_count": 93,
   "metadata": {},
   "outputs": [
    {
     "data": {
      "text/plain": [
       "[1, 2, 3, 4, 5, 6, 8]"
      ]
     },
     "execution_count": 93,
     "metadata": {},
     "output_type": "execute_result"
    }
   ],
   "source": [
    "# Remove duplicates from a list while preserving the order of elements; [1,2,3,4,2,5,3,6,8,6] -> [1,2,3,4,5,6,8]\n",
    "\n",
    "# [*set([1,2,3,4,2,5,3,6,8,6])]\n",
    "nums = [1,2,3,4,2,5,3,6,8,6]\n",
    "new_list = []\n",
    "\n",
    "for n in nums:\n",
    "  if n not in new_list:\n",
    "    new_list.append(n)\n",
    "\n",
    "new_list"
   ]
  },
  {
   "cell_type": "code",
   "execution_count": 96,
   "metadata": {},
   "outputs": [
    {
     "data": {
      "text/plain": [
       "['CAT', 'DOG', 'DOVE']"
      ]
     },
     "execution_count": 96,
     "metadata": {},
     "output_type": "execute_result"
    }
   ],
   "source": [
    "# Given a list of strings, convert each string to uppercase and return the resulting list.\n",
    "strs = ['cat', 'dog', 'dove']\n",
    "\n",
    "[word.upper() for word in strs]"
   ]
  },
  {
   "cell_type": "code",
   "execution_count": 5,
   "metadata": {},
   "outputs": [
    {
     "data": {
      "text/plain": [
       "[3, 5]"
      ]
     },
     "execution_count": 5,
     "metadata": {},
     "output_type": "execute_result"
    }
   ],
   "source": [
    "# Find common elements between two lists\n",
    "a = [2, 3, 5, 6, 3]\n",
    "b = [5, 7, 3, 9]\n",
    "common = []\n",
    "[common.append(n) for n in a if n in b and n not in common]\n",
    "common"
   ]
  },
  {
   "cell_type": "code",
   "execution_count": 3,
   "metadata": {},
   "outputs": [
    {
     "data": {
      "text/plain": [
       "['cat', 'dog', 'dove']"
      ]
     },
     "execution_count": 3,
     "metadata": {},
     "output_type": "execute_result"
    }
   ],
   "source": [
    "# 1.Given a list of strings, remove all strings that have length less than 3 and return the resulting list\n",
    "strs = ['cat', 'ca', 'do', 'dog', 'dove']\n",
    "[s for s in strs if len(s) >= 3]"
   ]
  },
  {
   "cell_type": "code",
   "execution_count": 16,
   "metadata": {},
   "outputs": [
    {
     "data": {
      "text/plain": [
       "[7, 9, 11, 13, 15]"
      ]
     },
     "execution_count": 16,
     "metadata": {},
     "output_type": "execute_result"
    }
   ],
   "source": [
    "# 2. Given a list of numbers, create a new list where each element\n",
    "    # is the sum of the corresponding elements from two given lists - \n",
    "    # list1 = [1, 2, 3, 4, 5]\n",
    "    # list2 = [6, 7, 8, 9, 10] - output - [7,9,11,13,15]\n",
    "a = [1, 2, 3, 4, 5]\n",
    "b = [6, 7, 8, 9, 10]\n",
    "\n",
    "[a[i] + b[i] for i in range(len(a))]\n",
    "\n",
    "# [sum([*pair]) for pair in [*zip(a, b)]]"
   ]
  },
  {
   "cell_type": "code",
   "execution_count": 55,
   "metadata": {},
   "outputs": [
    {
     "name": "stdout",
     "output_type": "stream",
     "text": [
      "Prime\n"
     ]
    }
   ],
   "source": [
    "# 3.take a number input from user and print if it's prime or note\n",
    "\n",
    "num = int(input('Enter number: '))\n",
    "\n",
    "is_prime = not [d for d in range(2, num // 2 + 1) if not num % d]\n",
    "is_prime"
   ]
  },
  {
   "cell_type": "code",
   "execution_count": 2,
   "metadata": {},
   "outputs": [
    {
     "data": {
      "text/plain": [
       "3"
      ]
     },
     "execution_count": 2,
     "metadata": {},
     "output_type": "execute_result"
    }
   ],
   "source": [
    "# Count the number of even elements in a list\n",
    "a = [6, 7, 8, 9, 10]\n",
    "len([n for n in a if not n % 2])"
   ]
  },
  {
   "cell_type": "code",
   "execution_count": 4,
   "metadata": {},
   "outputs": [
    {
     "data": {
      "text/plain": [
       "[2, 3, 4]"
      ]
     },
     "execution_count": 4,
     "metadata": {},
     "output_type": "execute_result"
    }
   ],
   "source": [
    "# Find the mean/avg of a list of numbers\n",
    "a = [8, 2, 3, 4, 5]\n",
    "mean = sum(a) / len(a)\n",
    "mean"
   ]
  },
  {
   "cell_type": "code",
   "execution_count": 10,
   "metadata": {},
   "outputs": [
    {
     "data": {
      "text/plain": [
       "10"
      ]
     },
     "execution_count": 10,
     "metadata": {},
     "output_type": "execute_result"
    }
   ],
   "source": [
    "# Find the sum of digits in a user-specified number\n",
    "n = int((input('Number: ')))\n",
    "\n",
    "sum_digits = 0\n",
    "\n",
    "while n:\n",
    "  sum_digits += n % 10\n",
    "  n //= 10\n",
    "\n",
    "sum_digits"
   ]
  },
  {
   "cell_type": "code",
   "execution_count": 15,
   "metadata": {},
   "outputs": [
    {
     "data": {
      "text/plain": [
       "24"
      ]
     },
     "execution_count": 15,
     "metadata": {},
     "output_type": "execute_result"
    }
   ],
   "source": [
    "n = int((input('Number: ')))\n",
    "\n",
    "i, factorial = 1, 1\n",
    "\n",
    "while i <= n:\n",
    "  factorial *= i\n",
    "  i += 1\n",
    "\n",
    "factorial"
   ]
  },
  {
   "cell_type": "code",
   "execution_count": 1,
   "metadata": {},
   "outputs": [],
   "source": [
    "# Assignment\n",
    "\n",
    "# 1. WAP to print reverse of a number\n",
    "\n",
    "# 2. check if a given number is palindrome or not, n = 121, it is palindrome"
   ]
  },
  {
   "cell_type": "markdown",
   "metadata": {},
   "source": [
    "###  Sets in Python\n",
    "##### Sets are unordered collection of unique elements"
   ]
  },
  {
   "cell_type": "code",
   "execution_count": 12,
   "metadata": {},
   "outputs": [
    {
     "data": {
      "text/plain": [
       "{3, 6, 9, 10}"
      ]
     },
     "execution_count": 12,
     "metadata": {},
     "output_type": "execute_result"
    }
   ],
   "source": [
    "s1 = { 3, 6, 3, 1, 9}\n",
    "# s[0]  # Error! Set elements are unordered\n",
    "\n",
    "s1.add(10)\n",
    "s1.remove(1)"
   ]
  },
  {
   "cell_type": "code",
   "execution_count": 13,
   "metadata": {},
   "outputs": [
    {
     "data": {
      "text/plain": [
       "{2, 3, 4, 6, 7, 8, 9}"
      ]
     },
     "execution_count": 13,
     "metadata": {},
     "output_type": "execute_result"
    }
   ],
   "source": [
    "s1 = { 3, 6, 9, 2 }\n",
    "s2 = { 7, 4, 8, 2, 6 }\n",
    "\n",
    "union = s1 | s2\n",
    "union"
   ]
  },
  {
   "cell_type": "code",
   "execution_count": 14,
   "metadata": {},
   "outputs": [
    {
     "data": {
      "text/plain": [
       "{2, 6}"
      ]
     },
     "execution_count": 14,
     "metadata": {},
     "output_type": "execute_result"
    }
   ],
   "source": [
    "intersection = s1 & s2\n",
    "intersection"
   ]
  },
  {
   "cell_type": "code",
   "execution_count": 16,
   "metadata": {},
   "outputs": [
    {
     "data": {
      "text/plain": [
       "{4, 7, 8}"
      ]
     },
     "execution_count": 16,
     "metadata": {},
     "output_type": "execute_result"
    }
   ],
   "source": [
    "diff = s2 - s1\n",
    "diff"
   ]
  },
  {
   "cell_type": "code",
   "execution_count": 18,
   "metadata": {},
   "outputs": [
    {
     "data": {
      "text/plain": [
       "{3, 4, 7, 8, 9}"
      ]
     },
     "execution_count": 18,
     "metadata": {},
     "output_type": "execute_result"
    }
   ],
   "source": [
    "sym_diff = s1 ^ s2\n",
    "sym_diff"
   ]
  },
  {
   "cell_type": "code",
   "execution_count": 20,
   "metadata": {},
   "outputs": [
    {
     "data": {
      "text/plain": [
       "False"
      ]
     },
     "execution_count": 20,
     "metadata": {},
     "output_type": "execute_result"
    }
   ],
   "source": [
    "# 2 in s1\n",
    "4 not in s2"
   ]
  },
  {
   "cell_type": "code",
   "execution_count": null,
   "metadata": {},
   "outputs": [],
   "source": []
  },
  {
   "cell_type": "code",
   "execution_count": 23,
   "metadata": {},
   "outputs": [
    {
     "data": {
      "text/plain": [
       "True"
      ]
     },
     "execution_count": 23,
     "metadata": {},
     "output_type": "execute_result"
    }
   ],
   "source": [
    "s1 = { 3, 6, 9, 2 }\n",
    "s2 = { 3, 6, 9, 2, 6 }\n",
    "\n",
    "s1.issubset(s2)\n",
    "\n",
    "# for n in s1:\n",
    "#   if n not in s2:\n",
    "#     print('Is not s1')\n",
    "# else:\n",
    "#     print('Is s1')"
   ]
  },
  {
   "cell_type": "code",
   "execution_count": 27,
   "metadata": {},
   "outputs": [
    {
     "data": {
      "text/plain": [
       "{2, 3, 5, 6, 9, 35, 243}"
      ]
     },
     "execution_count": 27,
     "metadata": {},
     "output_type": "execute_result"
    }
   ],
   "source": [
    "# Perform the union of 3 sets\n",
    "\n",
    "s3 = {5, 243, 35}\n",
    "s1.union(s2).union(s3)\n",
    "\n",
    "# OR\n",
    "s1.union(s2, s3)\n",
    "\n",
    "# OR\n",
    "s1 | s2 | s3"
   ]
  },
  {
   "cell_type": "code",
   "execution_count": 30,
   "metadata": {},
   "outputs": [
    {
     "data": {
      "text/plain": [
       "6"
      ]
     },
     "execution_count": 30,
     "metadata": {},
     "output_type": "execute_result"
    }
   ],
   "source": [
    "my_str = 'aergerhtufouf'\n",
    "len([a for a in my_str.lower() if a in 'aeiou'])\n"
   ]
  },
  {
   "cell_type": "code",
   "execution_count": 32,
   "metadata": {},
   "outputs": [
    {
     "data": {
      "text/plain": [
       "{'a', 'e', 'f', 'g', 'h', 'o', 'r', 't', 'u'}"
      ]
     },
     "execution_count": 32,
     "metadata": {},
     "output_type": "execute_result"
    }
   ],
   "source": [
    "# OR\n",
    "my_str = 'aergerhtufouf'\n",
    "\n",
    "{a for a in set(my_str) if a in set('aeiou')}"
   ]
  },
  {
   "cell_type": "code",
   "execution_count": 49,
   "metadata": {},
   "outputs": [
    {
     "data": {
      "text/plain": [
       "True"
      ]
     },
     "execution_count": 49,
     "metadata": {},
     "output_type": "execute_result"
    }
   ],
   "source": [
    "# Determine if two sets are anagrams (contain the exact same letters)\n",
    "str1 = 'dent'\n",
    "str2 = 'tend'\n",
    "\n",
    "set(str2) == set(str2)"
   ]
  },
  {
   "cell_type": "code",
   "execution_count": 9,
   "metadata": {},
   "outputs": [
    {
     "ename": "ValueError",
     "evalue": "invalid literal for int() with base 10: '2, 20'",
     "output_type": "error",
     "traceback": [
      "\u001b[1;31m---------------------------------------------------------------------------\u001b[0m",
      "\u001b[1;31mValueError\u001b[0m                                Traceback (most recent call last)",
      "Cell \u001b[1;32mIn[9], line 3\u001b[0m\n\u001b[0;32m      1\u001b[0m \u001b[38;5;66;03m# 1. WAP to print all prime numbers within a range\u001b[39;00m\n\u001b[1;32m----> 3\u001b[0m a, b \u001b[38;5;241m=\u001b[39m \u001b[38;5;28mint\u001b[39m(\u001b[38;5;28minput\u001b[39m()), \u001b[38;5;28mint\u001b[39m(\u001b[38;5;28minput\u001b[39m())\n\u001b[0;32m      5\u001b[0m primes \u001b[38;5;241m=\u001b[39m []\n\u001b[0;32m      6\u001b[0m \u001b[38;5;28;01mfor\u001b[39;00m n \u001b[38;5;129;01min\u001b[39;00m \u001b[38;5;28mrange\u001b[39m(a, b):\n",
      "\u001b[1;31mValueError\u001b[0m: invalid literal for int() with base 10: '2, 20'"
     ]
    }
   ],
   "source": [
    "# 1. WAP to print all prime numbers within a range\n",
    "\n",
    "a, b = int(input()), int(input())\n",
    "\n",
    "primes = []\n",
    "for n in range(a, b):\n",
    "  for i in range(2, n//2 + 1):\n",
    "    if not n % i:\n",
    "      break\n",
    "  else:\n",
    "    primes.append(n)\n",
    "\n",
    "primes\n",
    "\n"
   ]
  },
  {
   "cell_type": "code",
   "execution_count": 10,
   "metadata": {},
   "outputs": [
    {
     "data": {
      "text/plain": [
       "1296"
      ]
     },
     "execution_count": 10,
     "metadata": {},
     "output_type": "execute_result"
    }
   ],
   "source": [
    "# 2. Write a Python program to calculate the product of all elements in a nested list\n",
    "\n",
    "nested_list = [[1, 2], [3, 4], [6, 9]]\n",
    "product = 1\n",
    "\n",
    "for a in [n for pair in nested_list for n in pair]:\n",
    "  product *= a\n",
    "\n",
    "product"
   ]
  },
  {
   "cell_type": "code",
   "execution_count": 12,
   "metadata": {},
   "outputs": [
    {
     "data": {
      "text/plain": [
       "[(2, 'a'),\n",
       " (2, 'b'),\n",
       " (2, 'c'),\n",
       " (6, 'a'),\n",
       " (6, 'b'),\n",
       " (6, 'c'),\n",
       " (3, 'a'),\n",
       " (3, 'b'),\n",
       " (3, 'c')]"
      ]
     },
     "execution_count": 12,
     "metadata": {},
     "output_type": "execute_result"
    }
   ],
   "source": [
    "# 3. Write a Python program to generate all possible combinations of elements from two or more lists\n",
    "\n",
    "a = [2, 6, 3]\n",
    "b = ['a', 'b', 'c']\n",
    "\n",
    "[(x, y) for x in a for y in b]"
   ]
  },
  {
   "cell_type": "markdown",
   "metadata": {},
   "source": [
    "#### Tuples"
   ]
  },
  {
   "cell_type": "code",
   "execution_count": 6,
   "metadata": {},
   "outputs": [
    {
     "name": "stdout",
     "output_type": "stream",
     "text": [
      "4\n"
     ]
    },
    {
     "data": {
      "text/plain": [
       "True"
      ]
     },
     "execution_count": 6,
     "metadata": {},
     "output_type": "execute_result"
    }
   ],
   "source": [
    "tup1, tup2 = (1, 2), (5, 6)\n",
    "concat = tup1 + tup2\n",
    "\n",
    "print(len(concat))\n",
    "\n",
    "n = int(input())\n",
    "\n",
    "is_found = bool(concat.count(n))\n",
    "is_found"
   ]
  },
  {
   "cell_type": "code",
   "execution_count": 5,
   "metadata": {},
   "outputs": [
    {
     "data": {
      "text/plain": [
       "[(2, 4), (5, 2), (2, 1, 8)]"
      ]
     },
     "execution_count": 5,
     "metadata": {},
     "output_type": "execute_result"
    }
   ],
   "source": [
    "tuples = [(2, 4), (5, 2), (2, 1, 8)]\n",
    "\n",
    "sorted(tuples, key=lambda t: t[1], reverse=False)    # reverse is False by default\n",
    "tuples"
   ]
  },
  {
   "cell_type": "code",
   "execution_count": 11,
   "metadata": {},
   "outputs": [
    {
     "data": {
      "text/plain": [
       "[3, 3, 5, 6, 7, 8]"
      ]
     },
     "execution_count": 11,
     "metadata": {},
     "output_type": "execute_result"
    }
   ],
   "source": [
    "tuple_input = tuple(map(int, input('a, b, ... = ').split(',')))\n",
    "tuple_input[::-1]"
   ]
  },
  {
   "cell_type": "code",
   "execution_count": 15,
   "metadata": {},
   "outputs": [
    {
     "data": {
      "text/plain": [
       "[(13, 4), (17, 1, 8)]"
      ]
     },
     "execution_count": 15,
     "metadata": {},
     "output_type": "execute_result"
    }
   ],
   "source": [
    "tuples = [(13, 4), (5, 2), (17, 1, 8)]\n",
    "\n",
    "[t for t in tuples if t[0] >= 10]"
   ]
  },
  {
   "cell_type": "code",
   "execution_count": 11,
   "metadata": {},
   "outputs": [
    {
     "data": {
      "text/plain": [
       "[(2, 'a'), (6, 'b'), (3, 'c')]"
      ]
     },
     "execution_count": 11,
     "metadata": {},
     "output_type": "execute_result"
    }
   ],
   "source": [
    "# 1. Write a program that takes two lists and creates a tuple of corresponding elements from both lists\n",
    "\n",
    "list1 = [2, 6, 3]\n",
    "list2 = ['a', 'b', 'c']\n",
    "\n",
    "[*tuple(zip(list1, list2))]\n"
   ]
  },
  {
   "cell_type": "markdown",
   "metadata": {},
   "source": [
    "#### Dictionaries"
   ]
  },
  {
   "cell_type": "code",
   "execution_count": 14,
   "metadata": {},
   "outputs": [
    {
     "data": {
      "text/plain": [
       "{'name': 'John', 'age': 25, 'salary': 3000}"
      ]
     },
     "execution_count": 14,
     "metadata": {},
     "output_type": "execute_result"
    }
   ],
   "source": [
    "user = { 'name': 'John', 'age': 25, 'salary': 3000 }\n",
    "user"
   ]
  },
  {
   "cell_type": "code",
   "execution_count": 15,
   "metadata": {},
   "outputs": [
    {
     "data": {
      "text/plain": [
       "(3000, {'name': 'John', 'age': 25})"
      ]
     },
     "execution_count": 15,
     "metadata": {},
     "output_type": "execute_result"
    }
   ],
   "source": [
    "user_salary = user.pop('salary')\n",
    "\n",
    "user_salary, user"
   ]
  },
  {
   "cell_type": "code",
   "execution_count": 24,
   "metadata": {},
   "outputs": [
    {
     "data": {
      "text/plain": [
       "{'name': 'Chima', 'age': 25, 'occupation': 'Engr', 'fav_food': 'Rice'}"
      ]
     },
     "execution_count": 24,
     "metadata": {},
     "output_type": "execute_result"
    }
   ],
   "source": [
    "# Updating a dict\n",
    "\n",
    "new_data = { 'name': 'Chima', 'occupation': 'Engr', 'fav_food': 'Rice' }\n",
    "user.update(new_data)\n",
    "\n",
    "user"
   ]
  },
  {
   "cell_type": "code",
   "execution_count": 47,
   "metadata": {},
   "outputs": [
    {
     "data": {
      "text/plain": [
       "{'this': 2, 'is': 2, 'a': 2, 'cat': 1, 'dog': 1}"
      ]
     },
     "execution_count": 47,
     "metadata": {},
     "output_type": "execute_result"
    }
   ],
   "source": [
    "# WAP that takes a string as input and counts the frequency of each word in the string.\n",
    "# Output the word frequencies as a dictionary\n",
    "# \"This is a cat, This is a dog\" ----> {'This':2,'is':2,'a':2,'cat':1,'dog':1}\n",
    "\n",
    "sentence = input('Enter a sentence: ').lower()\n",
    "words = [*map(lambda word: word.strip('.,'), sentence.split(' '))]\n",
    "\n",
    "{w: words.count(w) for w in words}"
   ]
  },
  {
   "cell_type": "code",
   "execution_count": null,
   "metadata": {},
   "outputs": [],
   "source": [
    "# What is the O(n) of:\n",
    "\n",
    "# - Checking membership in a set? Answer: O(1)\n",
    "# - Checking membership in a list? Answer: O(n)\n",
    "# - Adding/removing an item from set? Answer: O(1)"
   ]
  },
  {
   "cell_type": "code",
   "execution_count": 6,
   "metadata": {},
   "outputs": [
    {
     "data": {
      "text/plain": [
       "(80, ['chima'])"
      ]
     },
     "execution_count": 6,
     "metadata": {},
     "output_type": "execute_result"
    }
   ],
   "source": [
    "# Given a dict of student names and their corresponding scores, find the student with the highest score\n",
    "\n",
    "scores = { 'david': 25, 'chima': 80, 'khan': 59 }\n",
    "\n",
    "max_score = max(scores.values())\n",
    "studs = [s for s in scores.keys() if scores[s] == max_score]\n",
    "\n",
    "max_score, studs"
   ]
  },
  {
   "cell_type": "code",
   "execution_count": 15,
   "metadata": {},
   "outputs": [
    {
     "data": {
      "text/plain": [
       "9"
      ]
     },
     "execution_count": 15,
     "metadata": {},
     "output_type": "execute_result"
    }
   ],
   "source": [
    "# Write a function to find the max of 3 nums\n",
    "def max_nums(a, b, c):\n",
    "  return max(a, b, c)\n",
    "\n",
    "max_nums(2, 9, 4)"
   ]
  },
  {
   "cell_type": "code",
   "execution_count": 17,
   "metadata": {},
   "outputs": [
    {
     "data": {
      "text/plain": [
       "'doog ma i'"
      ]
     },
     "execution_count": 17,
     "metadata": {},
     "output_type": "execute_result"
    }
   ],
   "source": [
    "# Write a function to reverse a string\n",
    "def reverse_str(string):\n",
    "  return string[::-1]\n",
    "\n",
    "reverse_str('i am good')"
   ]
  },
  {
   "cell_type": "code",
   "execution_count": null,
   "metadata": {},
   "outputs": [],
   "source": [
    "# 1. Determine whether a given year is leap year or not using functions\n",
    "# 2. Design a calculator using functions where based on inputs , different calculations are done\n",
    "\n",
    "# https://www.w3resource.com/python-exercises/python-functions-exercises.php"
   ]
  }
 ],
 "metadata": {
  "colab": {
   "provenance": [],
   "toc_visible": true
  },
  "kernelspec": {
   "display_name": "Python 3 (ipykernel)",
   "language": "python",
   "name": "python3"
  },
  "language_info": {
   "codemirror_mode": {
    "name": "ipython",
    "version": 3
   },
   "file_extension": ".py",
   "mimetype": "text/x-python",
   "name": "python",
   "nbconvert_exporter": "python",
   "pygments_lexer": "ipython3",
   "version": "3.11.5"
  }
 },
 "nbformat": 4,
 "nbformat_minor": 1
}
