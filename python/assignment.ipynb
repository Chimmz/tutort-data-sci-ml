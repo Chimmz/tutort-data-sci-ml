{
 "cells": [
  {
   "cell_type": "code",
   "execution_count": 1,
   "metadata": {},
   "outputs": [
    {
     "data": {
      "text/plain": [
       "89"
      ]
     },
     "execution_count": 1,
     "metadata": {},
     "output_type": "execute_result"
    }
   ],
   "source": [
    "# 1. Write a Python function to find the maximum of three numbers.\n",
    "def max_of_3(a, b, c):\n",
    "  return max(a, b, c)\n"
   ]
  },
  {
   "cell_type": "code",
   "execution_count": 2,
   "metadata": {},
   "outputs": [
    {
     "data": {
      "text/plain": [
       "90"
      ]
     },
     "execution_count": 2,
     "metadata": {},
     "output_type": "execute_result"
    }
   ],
   "source": [
    "# 2. Write a Python function to sum all the numbers in a list.\n",
    "\n",
    "def sum_list(arr):\n",
    "  return sum(arr)\n"
   ]
  },
  {
   "cell_type": "code",
   "execution_count": 11,
   "metadata": {},
   "outputs": [
    {
     "data": {
      "text/plain": [
       "30"
      ]
     },
     "execution_count": 11,
     "metadata": {},
     "output_type": "execute_result"
    }
   ],
   "source": [
    "# 3. Write a Python function to multiply all the numbers in a list.\n",
    "\n",
    "CONSTANT_MULTIPLIER = 1\n",
    "\n",
    "def mult_items(arr):\n",
    "  if not len(arr):\n",
    "    return CONSTANT_MULTIPLIER\n",
    "  return arr.pop() * mult_items(arr[:])\n",
    "\n",
    "mult_items([3, 5, 2])"
   ]
  },
  {
   "cell_type": "code",
   "execution_count": 13,
   "metadata": {},
   "outputs": [],
   "source": [
    "# 4. Write a Python program to reverse a string.\n",
    "\n",
    "def reverse_str(s):\n",
    "  return s[::-1]"
   ]
  },
  {
   "cell_type": "code",
   "execution_count": 15,
   "metadata": {},
   "outputs": [
    {
     "data": {
      "text/plain": [
       "6"
      ]
     },
     "execution_count": 15,
     "metadata": {},
     "output_type": "execute_result"
    }
   ],
   "source": [
    "# Write a Python function to calculate the factorial of a number (a non-negative integer). The function accepts the number as an argument.\n",
    "\n",
    "def factorial(n):\n",
    "  return 1 if not n else n * factorial(n - 1)"
   ]
  },
  {
   "cell_type": "code",
   "execution_count": 19,
   "metadata": {},
   "outputs": [
    {
     "data": {
      "text/plain": [
       "True"
      ]
     },
     "execution_count": 19,
     "metadata": {},
     "output_type": "execute_result"
    }
   ],
   "source": [
    "# 6. Write a Python function to check whether a number falls within a given range.\n",
    "\n",
    "def is_within_range(n, /, lower_bound, upper_bound):\n",
    "  return lower_bound <= n <= upper_bound\n",
    "\n",
    "# is_within_range(5, lower_bound=3, upper_bound=30)"
   ]
  },
  {
   "cell_type": "code",
   "execution_count": 34,
   "metadata": {},
   "outputs": [
    {
     "data": {
      "text/plain": [
       "{'total_lowercases': 12, 'total_uppercases': 3}"
      ]
     },
     "execution_count": 34,
     "metadata": {},
     "output_type": "execute_result"
    }
   ],
   "source": [
    "# 7. Write a Python function that accepts a string and counts the number of upper and lower case\n",
    "\n",
    "def total_cases(s):\n",
    "  s = ''.join(s.strip().split(' '))\n",
    "\n",
    "  lowercases = [*filter(str.islower, s)]\n",
    "  uppercases = [*filter(str.isupper, s)]\n",
    "\n",
    "  return { 'total_lowercases': len(lowercases), 'total_uppercases': len(uppercases) }\n",
    "\n",
    "total_cases(\"The quick Brow Fox\")"
   ]
  },
  {
   "cell_type": "code",
   "execution_count": 35,
   "metadata": {},
   "outputs": [
    {
     "data": {
      "text/plain": [
       "[1, 2, 3, 6, 56]"
      ]
     },
     "execution_count": 35,
     "metadata": {},
     "output_type": "execute_result"
    }
   ],
   "source": [
    "# 8. Write a Python function that takes a list and returns a new list with distinct elements from the first list.\n",
    "\n",
    "def get_unique_elems(items):\n",
    "  return [*set(items)]\n",
    "\n",
    "# get_unique_elems([1, 56, 2, 6, 2, 6, 3])"
   ]
  },
  {
   "cell_type": "code",
   "execution_count": 3,
   "metadata": {},
   "outputs": [
    {
     "data": {
      "text/plain": [
       "False"
      ]
     },
     "execution_count": 3,
     "metadata": {},
     "output_type": "execute_result"
    }
   ],
   "source": [
    "# 9. Write a Python function that takes a number as a parameter and checks whether the number is prime or not.\n",
    "\n",
    "def is_prime(n):\n",
    "  return all([bool(n % i) for i in range(2, n//2 + 1)])\n",
    "\n",
    "# is_prime(10)"
   ]
  },
  {
   "cell_type": "code",
   "execution_count": 96,
   "metadata": {},
   "outputs": [
    {
     "data": {
      "text/plain": [
       "[2, 6, 8, 2]"
      ]
     },
     "execution_count": 96,
     "metadata": {},
     "output_type": "execute_result"
    }
   ],
   "source": [
    "# 10. Write a Python program to print the even numbers from a given list.\n",
    "\n",
    "def get_evens(items):\n",
    "  return [*filter(lambda x: not x % 2, items)]\n",
    "\n",
    "get_evens([2, 3, 6, 5, 8, 91, 2])"
   ]
  },
  {
   "cell_type": "code",
   "execution_count": 79,
   "metadata": {},
   "outputs": [
    {
     "data": {
      "text/plain": [
       "True"
      ]
     },
     "execution_count": 79,
     "metadata": {},
     "output_type": "execute_result"
    }
   ],
   "source": [
    "def is_perfect_num(n):\n",
    "  divisors = [i for i in range(1, n//2 + 1) if not n % i]\n",
    "  return sum(divisors) == n\n",
    "\n",
    "is_perfect_num(496)"
   ]
  },
  {
   "cell_type": "code",
   "execution_count": 89,
   "metadata": {},
   "outputs": [
    {
     "data": {
      "text/plain": [
       "True"
      ]
     },
     "execution_count": 89,
     "metadata": {},
     "output_type": "execute_result"
    }
   ],
   "source": [
    "# 12. Write a Python function that checks whether a passed string is a palindrome or not.\n",
    "\n",
    "def is_pal(s):\n",
    "  if not len(s):\n",
    "    return True\n",
    "  \n",
    "  if s[0] != s[-1]:\n",
    "    return False\n",
    "  \n",
    "  return is_pal(s[1: -1])\n",
    "\n",
    "is_pal('oppo')"
   ]
  },
  {
   "cell_type": "code",
   "execution_count": 44,
   "metadata": {},
   "outputs": [
    {
     "name": "stdout",
     "output_type": "stream",
     "text": [
      "[1]\n",
      "[1, 1]\n",
      "[1, 2, 1]\n",
      "[1, 3, 3, 1]\n",
      "[1, 4, 6, 4, 1]\n",
      "[1, 5, 10, 10, 5, 1]\n"
     ]
    }
   ],
   "source": [
    "# 13. Write a Python function that prints out the first n rows of Pascal's triangle\n",
    "\n",
    "def gen_pascal_triangle(n):\n",
    "    trow, y = [1], [0]\n",
    "    \n",
    "    for _ in range(max(0, n)):\n",
    "        print(trow)\n",
    "        trow = [left + right for left, right in zip(trow + y, y + trow)]\n",
    "\n",
    "gen_pascal_triangle(6)"
   ]
  },
  {
   "cell_type": "code",
   "execution_count": 43,
   "metadata": {},
   "outputs": [
    {
     "name": "stdout",
     "output_type": "stream",
     "text": [
      "True\n"
     ]
    }
   ],
   "source": [
    "# 14. Write a Python function to check whether a string is a pangram or not.\n",
    "import string\n",
    "\n",
    "def is_pangram(str1):\n",
    "    return set(string.ascii_lowercase).issubset(set(str1.lower()))\n",
    "\n",
    "print(is_pangram('The quick brown fox jumps over the lazy dog'))"
   ]
  },
  {
   "cell_type": "code",
   "execution_count": 1,
   "metadata": {},
   "outputs": [
    {
     "data": {
      "text/plain": [
       "'black-green-red-white-yellow'"
      ]
     },
     "execution_count": 1,
     "metadata": {},
     "output_type": "execute_result"
    }
   ],
   "source": [
    "# 15. Write a Python program that accepts a hyphen-separated sequence of words as input\n",
    "# and prints the words in a hyphen-separated sequence after sorting them alphabetically.\n",
    "\n",
    "def sort_hyphen_separated(s):\n",
    "  return '-'.join(sorted(s.split('-')))\n",
    "\n",
    "sort_hyphen_separated('green-red-yellow-black-white')\n"
   ]
  },
  {
   "cell_type": "code",
   "execution_count": 49,
   "metadata": {},
   "outputs": [],
   "source": [
    "# 16. Write a Python function to create and print a list where the values are the squares of numbers between 1 and 30 (both included).\n",
    "\n",
    "def print_squares():\n",
    "  MIN, MAX = 1, 30\n",
    "  return list(map(lambda x:  x**2, range(MIN, MAX + 1)))\n",
    "\n",
    "# print_squares()"
   ]
  },
  {
   "cell_type": "code",
   "execution_count": 59,
   "metadata": {},
   "outputs": [
    {
     "name": "stdout",
     "output_type": "stream",
     "text": [
      "<b><i>Hi there!</i></b>\n"
     ]
    }
   ],
   "source": [
    "# 17. Write a Python program to create a chain of function decorators (bold, italic, underline etc.).\n",
    "\n",
    "def bolden(fn):\n",
    "    return lambda: \"<b>\" + fn() + \"</b>\"\n",
    "\n",
    "def italicize(fn):\n",
    "    return lambda: \"<i>\" + fn() + \"</i>\"\n",
    "\n",
    "def underline(fn):\n",
    "    return lambda: \"<u>\" + fn() + \"</u>\"\n",
    "\n",
    "@bolden\n",
    "@italicize\n",
    "def hello():\n",
    "    return \"Hi there!\"\n",
    "\n",
    "print(hello())"
   ]
  },
  {
   "cell_type": "code",
   "execution_count": 70,
   "metadata": {},
   "outputs": [
    {
     "name": "stdout",
     "output_type": "stream",
     "text": [
      "[3, 4, 5, 6, 7, 8, 9, 10, 10]\n"
     ]
    }
   ],
   "source": [
    "# 18. Write a Python program to execute a string containing Python code\n",
    "\n",
    "def run(code_str):\n",
    "  exec(code_str)\n",
    "\n",
    "run(\"\"\"\n",
    "a = [x + 2 if x + 2 <= 10 else 10 for x in range(1, 10)]\n",
    "print(a)\n",
    "\"\"\")"
   ]
  },
  {
   "cell_type": "code",
   "execution_count": 74,
   "metadata": {},
   "outputs": [
    {
     "data": {
      "text/plain": [
       "'Hello Chima'"
      ]
     },
     "execution_count": 74,
     "metadata": {},
     "output_type": "execute_result"
    }
   ],
   "source": [
    "# 19. Write a Python program to access a function inside a function\n",
    "\n",
    "def greeter(greeting):\n",
    "  return lambda name: greeting + ' ' + name\n",
    "\n",
    "greet = greeter('Hello')\n",
    "greet('Chima')"
   ]
  },
  {
   "cell_type": "code",
   "execution_count": 81,
   "metadata": {},
   "outputs": [
    {
     "data": {
      "text/plain": [
       "2"
      ]
     },
     "execution_count": 81,
     "metadata": {},
     "output_type": "execute_result"
    }
   ],
   "source": [
    "# 20. Write a Python program to detect the number of local variables declared in a function.\n",
    "def fn():\n",
    "    x, my_str = 1, \"my string\"\n",
    "\n",
    "fn.__code__.co_nlocals"
   ]
  },
  {
   "cell_type": "code",
   "execution_count": 86,
   "metadata": {},
   "outputs": [
    {
     "name": "stdout",
     "output_type": "stream",
     "text": [
      "4\n",
      "9\n",
      "25\n"
     ]
    }
   ],
   "source": [
    "# 21. Write a Python program that invokes a function after a specified period of time\n",
    "\n",
    "from time import sleep\n",
    "\n",
    "def run_fn(fn, args, delay_secs=1):\n",
    "    sleep(delay_secs)\n",
    "    return fn(args)\n",
    "\n",
    "print(run_fn(lambda x: x**2, 2, delay_secs=1))\n",
    "print(run_fn(lambda x: x**2, 3, delay_secs=1.5))\n",
    "print(run_fn(lambda x: x**2, 5, delay_secs=2))\n"
   ]
  }
 ],
 "metadata": {
  "kernelspec": {
   "display_name": "base",
   "language": "python",
   "name": "python3"
  },
  "language_info": {
   "codemirror_mode": {
    "name": "ipython",
    "version": 3
   },
   "file_extension": ".py",
   "mimetype": "text/x-python",
   "name": "python",
   "nbconvert_exporter": "python",
   "pygments_lexer": "ipython3",
   "version": "3.11.5"
  }
 },
 "nbformat": 4,
 "nbformat_minor": 2
}
