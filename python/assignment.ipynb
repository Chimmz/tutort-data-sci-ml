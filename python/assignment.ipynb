{
 "cells": [
  {
   "cell_type": "code",
   "execution_count": 1,
   "metadata": {},
   "outputs": [
    {
     "data": {
      "text/plain": [
       "89"
      ]
     },
     "execution_count": 1,
     "metadata": {},
     "output_type": "execute_result"
    }
   ],
   "source": [
    "# 1. Write a Python function to find the maximum of three numbers.\n",
    "def max_of_3(a, b, c):\n",
    "  return max(a, b, c)\n"
   ]
  },
  {
   "cell_type": "code",
   "execution_count": 2,
   "metadata": {},
   "outputs": [
    {
     "data": {
      "text/plain": [
       "90"
      ]
     },
     "execution_count": 2,
     "metadata": {},
     "output_type": "execute_result"
    }
   ],
   "source": [
    "# 2. Write a Python function to sum all the numbers in a list.\n",
    "\n",
    "def sum_list(arr):\n",
    "  return sum(arr)\n"
   ]
  },
  {
   "cell_type": "code",
   "execution_count": 11,
   "metadata": {},
   "outputs": [
    {
     "data": {
      "text/plain": [
       "30"
      ]
     },
     "execution_count": 11,
     "metadata": {},
     "output_type": "execute_result"
    }
   ],
   "source": [
    "# 3. Write a Python function to multiply all the numbers in a list.\n",
    "\n",
    "CONSTANT_MULTIPLIER = 1\n",
    "\n",
    "def mult_items(arr):\n",
    "  if not len(arr):\n",
    "    return CONSTANT_MULTIPLIER\n",
    "  return arr.pop() * mult_items(arr[:])\n",
    "\n",
    "mult_items([3, 5, 2])"
   ]
  },
  {
   "cell_type": "code",
   "execution_count": 13,
   "metadata": {},
   "outputs": [],
   "source": [
    "# 4. Write a Python program to reverse a string.\n",
    "\n",
    "def reverse_str(s):\n",
    "  return s[::-1]"
   ]
  },
  {
   "cell_type": "code",
   "execution_count": 15,
   "metadata": {},
   "outputs": [
    {
     "data": {
      "text/plain": [
       "6"
      ]
     },
     "execution_count": 15,
     "metadata": {},
     "output_type": "execute_result"
    }
   ],
   "source": [
    "# Write a Python function to calculate the factorial of a number (a non-negative integer). The function accepts the number as an argument.\n",
    "\n",
    "def factorial(n):\n",
    "  return 1 if not n else n * factorial(n - 1)"
   ]
  },
  {
   "cell_type": "code",
   "execution_count": 19,
   "metadata": {},
   "outputs": [
    {
     "data": {
      "text/plain": [
       "True"
      ]
     },
     "execution_count": 19,
     "metadata": {},
     "output_type": "execute_result"
    }
   ],
   "source": [
    "# 6. Write a Python function to check whether a number falls within a given range.\n",
    "\n",
    "def is_within_range(n, /, lower_bound, upper_bound):\n",
    "  return lower_bound <= n <= upper_bound\n",
    "\n",
    "# is_within_range(5, lower_bound=3, upper_bound=30)"
   ]
  },
  {
   "cell_type": "code",
   "execution_count": 34,
   "metadata": {},
   "outputs": [
    {
     "data": {
      "text/plain": [
       "{'total_lowercases': 12, 'total_uppercases': 3}"
      ]
     },
     "execution_count": 34,
     "metadata": {},
     "output_type": "execute_result"
    }
   ],
   "source": [
    "# 7. Write a Python function that accepts a string and counts the number of upper and lower case\n",
    "\n",
    "def total_cases(s):\n",
    "  s = ''.join(s.strip().split(' '))\n",
    "\n",
    "  lowercases = [*filter(str.islower, s)]\n",
    "  uppercases = [*filter(str.isupper, s)]\n",
    "\n",
    "  return { 'total_lowercases': len(lowercases), 'total_uppercases': len(uppercases) }\n",
    "\n",
    "total_cases(\"The quick Brow Fox\")"
   ]
  },
  {
   "cell_type": "code",
   "execution_count": 35,
   "metadata": {},
   "outputs": [
    {
     "data": {
      "text/plain": [
       "[1, 2, 3, 6, 56]"
      ]
     },
     "execution_count": 35,
     "metadata": {},
     "output_type": "execute_result"
    }
   ],
   "source": [
    "# 8. Write a Python function that takes a list and returns a new list with distinct elements from the first list.\n",
    "\n",
    "def get_unique_elems(items):\n",
    "  return [*set(items)]\n",
    "\n",
    "# get_unique_elems([1, 56, 2, 6, 2, 6, 3])"
   ]
  },
  {
   "cell_type": "code",
   "execution_count": 57,
   "metadata": {},
   "outputs": [],
   "source": [
    "# 9. Write a Python function that takes a number as a parameter and checks whether the number is prime or not.\n",
    "\n",
    "def is_prime(n):\n",
    "  return all([bool(n % i) for i in range(2, n//2 + 1)])\n",
    "\n",
    "# is_prime(13)"
   ]
  },
  {
   "cell_type": "code",
   "execution_count": 96,
   "metadata": {},
   "outputs": [
    {
     "data": {
      "text/plain": [
       "[2, 6, 8, 2]"
      ]
     },
     "execution_count": 96,
     "metadata": {},
     "output_type": "execute_result"
    }
   ],
   "source": [
    "# 10. Write a Python program to print the even numbers from a given list.\n",
    "\n",
    "def get_evens(items):\n",
    "  return [*filter(lambda x: not x % 2, items)]\n",
    "\n",
    "get_evens([2, 3, 6, 5, 8, 91, 2])"
   ]
  },
  {
   "cell_type": "code",
   "execution_count": 79,
   "metadata": {},
   "outputs": [
    {
     "data": {
      "text/plain": [
       "True"
      ]
     },
     "execution_count": 79,
     "metadata": {},
     "output_type": "execute_result"
    }
   ],
   "source": [
    "def is_perfect_num(n):\n",
    "  divisors = [i for i in range(1, n//2 + 1) if not n % i]\n",
    "  return sum(divisors) == n\n",
    "\n",
    "is_perfect_num(496)"
   ]
  },
  {
   "cell_type": "code",
   "execution_count": 89,
   "metadata": {},
   "outputs": [
    {
     "data": {
      "text/plain": [
       "True"
      ]
     },
     "execution_count": 89,
     "metadata": {},
     "output_type": "execute_result"
    }
   ],
   "source": [
    "# 12. Write a Python function that checks whether a passed string is a palindrome or not.\n",
    "\n",
    "def is_pal(s):\n",
    "  if not len(s):\n",
    "    return True\n",
    "  \n",
    "  if s[0] != s[-1]:\n",
    "    return False\n",
    "  \n",
    "  return is_pal(s[1: -1])\n",
    "\n",
    "is_pal('oppo')"
   ]
  },
  {
   "cell_type": "code",
   "execution_count": 95,
   "metadata": {},
   "outputs": [
    {
     "ename": "TypeError",
     "evalue": "unsupported operand type(s) for +: 'int' and 'NoneType'",
     "output_type": "error",
     "traceback": [
      "\u001b[1;31m---------------------------------------------------------------------------\u001b[0m",
      "\u001b[1;31mTypeError\u001b[0m                                 Traceback (most recent call last)",
      "Cell \u001b[1;32mIn[95], line 9\u001b[0m\n\u001b[0;32m      5\u001b[0m   \u001b[38;5;28;01mreturn\u001b[39;00m \u001b[38;5;124m'\u001b[39m\u001b[38;5;124m-\u001b[39m\u001b[38;5;124m'\u001b[39m\u001b[38;5;241m.\u001b[39mjoin(\u001b[38;5;28msorted\u001b[39m(s\u001b[38;5;241m.\u001b[39msplit(\u001b[38;5;124m'\u001b[39m\u001b[38;5;124m-\u001b[39m\u001b[38;5;124m'\u001b[39m)))\n\u001b[0;32m      7\u001b[0m sort_hyphen_separated(\u001b[38;5;124m'\u001b[39m\u001b[38;5;124mgreen-red-yellow-black-white\u001b[39m\u001b[38;5;124m'\u001b[39m)\n\u001b[1;32m----> 9\u001b[0m \u001b[38;5;28msum\u001b[39m([\u001b[38;5;28;01mNone\u001b[39;00m, \u001b[38;5;241m1\u001b[39m, \u001b[38;5;241m2\u001b[39m])\n",
      "\u001b[1;31mTypeError\u001b[0m: unsupported operand type(s) for +: 'int' and 'NoneType'"
     ]
    }
   ],
   "source": [
    "# 15. Write a Python program that accepts a hyphen-separated sequence of words as input\n",
    "# and prints the words in a hyphen-separated sequence after sorting them alphabetically.\n",
    "\n",
    "def sort_hyphen_separated(s):\n",
    "  return '-'.join(sorted(s.split('-')))\n",
    "\n",
    "sort_hyphen_separated('green-red-yellow-black-white')\n"
   ]
  }
 ],
 "metadata": {
  "kernelspec": {
   "display_name": "base",
   "language": "python",
   "name": "python3"
  },
  "language_info": {
   "codemirror_mode": {
    "name": "ipython",
    "version": 3
   },
   "file_extension": ".py",
   "mimetype": "text/x-python",
   "name": "python",
   "nbconvert_exporter": "python",
   "pygments_lexer": "ipython3",
   "version": "3.11.5"
  }
 },
 "nbformat": 4,
 "nbformat_minor": 2
}
